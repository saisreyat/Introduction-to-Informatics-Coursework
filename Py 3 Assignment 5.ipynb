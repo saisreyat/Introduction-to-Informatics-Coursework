{
 "cells": [
  {
   "cell_type": "markdown",
   "metadata": {},
   "source": [
    "# 1. Calculate the following using the python standard libraries (2 points)\n",
    "1. Mean of the list [3,4,2,5,3,5,3,7,6,4]\n",
    "2. The Square Root of 81\n",
    "3. Return the Log value of 20\n",
    "4. Print the Sine value of 30\n"
   ]
  },
  {
   "cell_type": "code",
   "execution_count": 2,
   "metadata": {
    "scrolled": true
   },
   "outputs": [
    {
     "name": "stdout",
     "output_type": "stream",
     "text": [
      "4.2\n",
      "9.0\n",
      "2.995732273553991\n",
      "-0.9880316240928618\n"
     ]
    }
   ],
   "source": [
    "import math\n",
    "import statistics\n",
    "\n",
    "x = statistics.mean([3,4,2,5,3,5,3,7,6,4])\n",
    "print(x)\n",
    "\n",
    "y = math.sqrt(81)\n",
    "print(y)\n",
    "\n",
    "z = math.log(20)\n",
    "print(z)\n",
    "\n",
    "s = math.sin(30)\n",
    "print(s)"
   ]
  },
  {
   "cell_type": "markdown",
   "metadata": {},
   "source": [
    "# 2. Download the given file (file.txt  Download file.txt), upload it to Jupyterhub, and write a python program to read the file and add two new lines student name and grade into the file by taking input from the user. Now print the contents of the updated file. (2 points)"
   ]
  },
  {
   "cell_type": "code",
   "execution_count": 26,
   "metadata": {},
   "outputs": [
    {
     "name": "stdout",
     "output_type": "stream",
     "text": [
      "Enter student name:Sreya\n",
      "Enter student grade:A\n"
     ]
    }
   ],
   "source": [
    "filename = open ('file.txt', 'a')\n",
    "sname = input ('Enter student name:')\n",
    "grade = input ('Enter student grade:')\n",
    "filename.write(f\"\\n{sname}\\n{grade}\")\n",
    "filename.close()"
   ]
  },
  {
   "cell_type": "code",
   "execution_count": 19,
   "metadata": {},
   "outputs": [
    {
     "name": "stdout",
     "output_type": "stream",
     "text": [
      "\n",
      "Sreya\n",
      "A\n"
     ]
    }
   ],
   "source": [
    "filename = open ('file.txt', 'r')\n",
    "print(filename.read())\n",
    "filename.close()"
   ]
  },
  {
   "cell_type": "markdown",
   "metadata": {},
   "source": [
    "# 3. Create a tuple with values - \"My\", 1, \"Python\", \"Program\" and print the first two elements using the for loop (2 points)\n"
   ]
  },
  {
   "cell_type": "code",
   "execution_count": 24,
   "metadata": {},
   "outputs": [
    {
     "name": "stdout",
     "output_type": "stream",
     "text": [
      "My\n",
      "1\n"
     ]
    }
   ],
   "source": [
    "x = (\"My\", 1, \"Python\", \"Program\") \n",
    "for i in range(2):\n",
    "    print(x[i])"
   ]
  },
  {
   "cell_type": "markdown",
   "metadata": {},
   "source": [
    "# 4. Write a python program to create the dictionary 'Apple': 25, 'Orange': 40, 'Grapes':60, 'Mango':20, 'Tomato':8 and do the following. (3 points)\n",
    "1. Print all the keys  and values\n",
    "2. Add \"Strawberry\": 23 to the dictionary\n",
    "3. Update the value of Orange to 32\n",
    "4. Print sum of all the values\n",
    "5. Get the value for the key Grapes"
   ]
  },
  {
   "cell_type": "code",
   "execution_count": 31,
   "metadata": {},
   "outputs": [
    {
     "name": "stdout",
     "output_type": "stream",
     "text": [
      "dict_keys(['Apple', 'Orange', 'Grapes', 'Mango', 'Tomato'])\n",
      "dict_values([25, 40, 60, 20, 8])\n",
      "{'Apple': 25, 'Orange': 40, 'Grapes': 60, 'Mango': 20, 'Tomato': 8, 'Strawberry': 23}\n",
      "{'Apple': 25, 'Orange': 32, 'Grapes': 60, 'Mango': 20, 'Tomato': 8, 'Strawberry': 23}\n",
      "168\n",
      "60\n"
     ]
    }
   ],
   "source": [
    "dic = {'Apple': 25, 'Orange': 40, 'Grapes':60, 'Mango':20, 'Tomato':8 }\n",
    "x = dic.keys()\n",
    "print(x)\n",
    "y = dic.values()\n",
    "print(y)\n",
    "\n",
    "dic['Strawberry'] = 23\n",
    "print(dic)\n",
    "\n",
    "dic.update({'Orange':32})\n",
    "print(dic)\n",
    "\n",
    "s= sum(dic.values())\n",
    "print(s)\n",
    "\n",
    "g = dic.get('Grapes')\n",
    "print(g)"
   ]
  },
  {
   "cell_type": "markdown",
   "metadata": {},
   "source": [
    "# 5. Using list comprehension, create a list of numbers that are divisible by 3 and has 6 in them (eg: 36, 66) between the range of 10 to 500 (2 points) \n"
   ]
  },
  {
   "cell_type": "code",
   "execution_count": 1,
   "metadata": {
    "scrolled": false
   },
   "outputs": [
    {
     "name": "stdout",
     "output_type": "stream",
     "text": [
      "[36, 60, 63, 66, 69, 96, 126, 156, 162, 165, 168, 186, 216, 246, 261, 264, 267, 276, 306, 336, 360, 363, 366, 369, 396, 426, 456, 462, 465, 468, 486]\n"
     ]
    }
   ],
   "source": [
    "lst = [i for i in range(10,501) if (i%3==0) and ('6' in str(i))]\n",
    "print (lst)"
   ]
  },
  {
   "cell_type": "markdown",
   "metadata": {},
   "source": [
    "# 6. Write a python function that takes an input from the user and iterates through the string and removes the duplicate characters from it and creates another string using these duplicate characters and returns both the strings. Now, write a python program to call this function and pass the string. (3 points)\n"
   ]
  },
  {
   "cell_type": "code",
   "execution_count": 53,
   "metadata": {},
   "outputs": [
    {
     "name": "stdout",
     "output_type": "stream",
     "text": [
      "Enter any string:abcdefaabb\n",
      "Duplicate string:  aabb\n",
      "Original string without duplicates:  abcdef\n"
     ]
    }
   ],
   "source": [
    " def string(a):\n",
    "        orig_list = []\n",
    "        for i in a:\n",
    "            if i not in orig_list:\n",
    "                orig_list.append(i)\n",
    "                a = a.replace(i, '', 1)\n",
    "                \n",
    "        str1 = \"\" \n",
    "        for j in orig_list: \n",
    "            str1 += j \n",
    "\n",
    "        return a, str1\n",
    "a = input('Enter any string:')\n",
    "dup, orig = string(a)\n",
    "print('Duplicate string: ', dup)\n",
    "print('Original string without duplicates: ', orig)"
   ]
  },
  {
   "cell_type": "markdown",
   "metadata": {},
   "source": [
    "# 7. Write a python program that finds the cube root (approximate solution) of 210 using bisection search. (2 points)\n"
   ]
  },
  {
   "cell_type": "code",
   "execution_count": 34,
   "metadata": {},
   "outputs": [
    {
     "name": "stdout",
     "output_type": "stream",
     "text": [
      "105.0\n",
      "52.5\n",
      "26.25\n",
      "13.125\n",
      "6.5625\n",
      "3.28125\n",
      "4.921875\n",
      "5.7421875\n",
      "6.15234375\n",
      "5.947265625\n",
      "5.8447265625\n",
      "5.89599609375\n",
      "5.921630859375\n",
      "5.9344482421875\n",
      "5.94085693359375\n",
      "5.944061279296875\n",
      "5.9424591064453125\n",
      "5.943260192871094\n",
      "5.943660736083984\n",
      "5.94386100769043 Is the closest cuberoot of 210\n"
     ]
    }
   ],
   "source": [
    "x = 210\n",
    "epsilon = 0.01\n",
    "low = 0.0\n",
    "high = max(1,x)\n",
    "ans = (high+low)/2.0\n",
    "while abs(ans**3-x)>=epsilon:\n",
    "    print(ans)\n",
    "    if ans**3>x:\n",
    "        high = ans\n",
    "    else:\n",
    "        low = ans\n",
    "    ans = (high+low)/2\n",
    "print(ans, 'Is the closest cuberoot of', x)\n"
   ]
  },
  {
   "cell_type": "markdown",
   "metadata": {},
   "source": [
    "# 8. Write a python program to insert 98.9 into an ascending ordered sorted list [187,3,44,23,65.3,50,325,33.4,52.5,98,95] using exhaustive enumeration (3 points)\n"
   ]
  },
  {
   "cell_type": "code",
   "execution_count": 39,
   "metadata": {},
   "outputs": [
    {
     "name": "stdout",
     "output_type": "stream",
     "text": [
      "[3, 23, 33.4, 44, 50, 52.5, 65.3, 95, 98, 187, 325]\n",
      "[3, 23, 33.4, 44, 50, 52.5, 65.3, 95, 98, 187, 325, 98.9]\n",
      "[3, 23, 33.4, 44, 50, 52.5, 65.3, 95, 98, 98.9, 187, 325]\n"
     ]
    }
   ],
   "source": [
    "def mylist(lst):\n",
    "    x = len(lst)\n",
    "    for i in range(x):\n",
    "        for j in range(i+1,x):\n",
    "            if lst[i]>lst[j]:\n",
    "                lst[i],lst[j]=lst[j],lst[i]\n",
    "lst = [187,3,44,23,65.3,50,325,33.4,52.5,98,95]\n",
    "mylist(lst)\n",
    "print(lst)\n",
    "lst.append(98.9)\n",
    "print(lst)\n",
    "mylist(lst)\n",
    "print(lst)\n",
    "            "
   ]
  },
  {
   "cell_type": "markdown",
   "metadata": {},
   "source": [
    "# 9. Create a list list1= [1,3,4,5] and create 2 lists using the deep and shallow copy of list1. Find the object and value equality of all the 3 lists. (1 point)\n"
   ]
  },
  {
   "cell_type": "code",
   "execution_count": 33,
   "metadata": {},
   "outputs": [
    {
     "name": "stdout",
     "output_type": "stream",
     "text": [
      "list1  [1, 3, 4, 5] list2  [1, 3, 4, 5] list3  [1, 3, 4, 5]\n",
      "Value equality is: True\n",
      "Object equality is: False\n"
     ]
    }
   ],
   "source": [
    "list1 = [1,3,4,5]\n",
    "import copy\n",
    "list2 = copy.deepcopy(list1)\n",
    "list3 = copy.copy(list1)\n",
    "print('list1',\"\",list1,'list2',\"\",list2,'list3',\"\",list3)\n",
    "print ('Value equality is:',list1==list2==list3)\n",
    "print ('Object equality is:',id(list1)==id(list2)==id(list3))\n",
    "\n"
   ]
  }
 ],
 "metadata": {
  "kernelspec": {
   "display_name": "Python 3",
   "language": "python",
   "name": "python3"
  },
  "language_info": {
   "codemirror_mode": {
    "name": "ipython",
    "version": 3
   },
   "file_extension": ".py",
   "mimetype": "text/x-python",
   "name": "python",
   "nbconvert_exporter": "python",
   "pygments_lexer": "ipython3",
   "version": "3.8.10"
  }
 },
 "nbformat": 4,
 "nbformat_minor": 4
}
