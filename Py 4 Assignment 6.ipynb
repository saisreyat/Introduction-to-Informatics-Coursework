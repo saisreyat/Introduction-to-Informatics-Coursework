{
 "cells": [
  {
   "cell_type": "markdown",
   "metadata": {},
   "source": [
    "# 1. Get 2 inputs from the user and perform division using these numbers and handle ZeroDivisionError, ValueError, and NameError by printing related errors. (2 points) "
   ]
  },
  {
   "cell_type": "markdown",
   "metadata": {},
   "source": [
    "# ZeroDivisionError"
   ]
  },
  {
   "cell_type": "code",
   "execution_count": 1,
   "metadata": {},
   "outputs": [
    {
     "name": "stdout",
     "output_type": "stream",
     "text": [
      "Enter a number:45\n",
      "Enter another number:0\n",
      "You cannot divide a number by 0\n"
     ]
    }
   ],
   "source": [
    "try:\n",
    "    num1 = int(input('Enter a number:'))\n",
    "    num2 = int(input('Enter another number:'))\n",
    "    div = num1/num2\n",
    "    print(div)\n",
    "\n",
    "except ZeroDivisionError:\n",
    "    print ('You cannot divide a number by 0')\n",
    "except ValueError:\n",
    "    print ('You did not enter a number')\n",
    "except NameError:\n",
    "    print ('You entered a variable that is never defined')\n"
   ]
  },
  {
   "cell_type": "markdown",
   "metadata": {},
   "source": [
    "# ValueError"
   ]
  },
  {
   "cell_type": "code",
   "execution_count": 2,
   "metadata": {},
   "outputs": [
    {
     "name": "stdout",
     "output_type": "stream",
     "text": [
      "Enter a number:61\n",
      "Enter another number:x\n",
      "You did not enter a number\n"
     ]
    }
   ],
   "source": [
    "try:\n",
    "    num1 = int(input('Enter a number:'))\n",
    "    num2 = int(input('Enter another number:'))\n",
    "    div = num1/num2\n",
    "    print(div)\n",
    "    \n",
    "except ZeroDivisionError:\n",
    "    print ('You cannot divide a number by 0')\n",
    "except ValueError:\n",
    "    print ('You did not enter a number')\n",
    "except NameError:\n",
    "    print ('You entered a variable that is never defined')\n"
   ]
  },
  {
   "cell_type": "markdown",
   "metadata": {},
   "source": [
    "# NameError"
   ]
  },
  {
   "cell_type": "code",
   "execution_count": 4,
   "metadata": {},
   "outputs": [
    {
     "name": "stdout",
     "output_type": "stream",
     "text": [
      "Enter a number:34\n",
      "Enter another number:78\n",
      "You entered a variable that is never defined\n"
     ]
    }
   ],
   "source": [
    "try:\n",
    "    num1 = int(input('Enter a number:'))\n",
    "    num2 = int(input('Enter another number:'))\n",
    "    div = num1/numm2\n",
    "    print(div)\n",
    "    \n",
    "except ZeroDivisionError:\n",
    "    print ('You cannot divide a number by 0')\n",
    "except ValueError:\n",
    "    print ('You did not enter a number')\n",
    "except NameError:\n",
    "    print ('You entered a variable that is never defined')\n",
    "    "
   ]
  },
  {
   "cell_type": "code",
   "execution_count": 6,
   "metadata": {},
   "outputs": [
    {
     "name": "stdout",
     "output_type": "stream",
     "text": [
      "Enter a number:78\n",
      "Enter another number:9\n",
      "8.666666666666666\n",
      "Thank you\n"
     ]
    }
   ],
   "source": [
    " try:\n",
    "    num1 = int(input('Enter a number:'))\n",
    "    num2 = int(input('Enter another number:'))\n",
    "    div = num1/num2 \n",
    "    print(div)\n",
    "    \n",
    "except ZeroDivisionError:\n",
    "    print ('You cannot divide a number by 0')\n",
    "except ValueError:\n",
    "    print ('You did not enter a number')\n",
    "except NameError:\n",
    "    print ('You entered a variable that is never defined')\n",
    "finally:\n",
    "    print ('Thank you')"
   ]
  },
  {
   "cell_type": "markdown",
   "metadata": {},
   "source": [
    "# 2. Define a class with one method for each that calculates the area, perimeter, and diagonal of a rectangle. Create an object by taking input from the user.  (3 points)"
   ]
  },
  {
   "cell_type": "code",
   "execution_count": 25,
   "metadata": {},
   "outputs": [
    {
     "name": "stdout",
     "output_type": "stream",
     "text": [
      "Enter length:8\n",
      "Enter breadth:4\n",
      "Area:  32\n",
      "Perimeter:  24\n",
      "Diagonal:  8.94427190999916\n"
     ]
    }
   ],
   "source": [
    "class rectangle(object):\n",
    "    def __init__ (self, length, breadth):\n",
    "    \n",
    "        self.length = length\n",
    "        self.breadth = breadth\n",
    "    \n",
    "    def area(self):\n",
    "        x = self.length*self.breadth\n",
    "        return x\n",
    "    \n",
    "    def perimeter (self):\n",
    "        y = 2*(self.length+self.breadth)\n",
    "        return y\n",
    "    \n",
    "    def diagonal (self):\n",
    "        dia = (self.breadth**2)+(self.length**2)\n",
    "        import math\n",
    "        z = math.sqrt(dia)\n",
    "        return z\n",
    "    \n",
    "length = int (input('Enter length:'))\n",
    "breadth = int (input('Enter breadth:'))\n",
    "\n",
    "o = rectangle(length,breadth)\n",
    "\n",
    "print('Area:','',o.area())\n",
    "print ('Perimeter:','',o.perimeter())\n",
    "print ('Diagonal:','',o.diagonal())"
   ]
  },
  {
   "cell_type": "markdown",
   "metadata": {},
   "source": [
    "# 3. Look at the python script given in the link below Hierarchy.py  Download Hierarchy.py and list the number of classes and name of the functions along with its arguments in each class as a comment in the .ipynb file (4 points)"
   ]
  },
  {
   "cell_type": "code",
   "execution_count": 26,
   "metadata": {},
   "outputs": [],
   "source": [
    "# Classes:\n",
    "# 4 classes : People, Student, Staffs, Professor\n",
    "\n",
    "# Student\n",
    "# Functions: enroll\n",
    "# Arguments: course\n",
    "    \n",
    "# Staffs\n",
    "# Functions: salary\n",
    "# Arguments: basicpay\n",
    "    \n",
    "# Professor\n",
    "# Functions: assign_teaching\n",
    "# Arguments: course\n"
   ]
  },
  {
   "cell_type": "markdown",
   "metadata": {},
   "source": [
    "# 5. Create a class with a constructor that takes a list as input and calculates the sum of all the values in the list. Instantiate this class by passing a list with 5 integers. Add a breakpoint inside the constructor such that the interactive console of PDB can be used to look at the values of the addition after each item in the list is calculated. No need to post if you used the PDB console or not (3 points).\n"
   ]
  },
  {
   "cell_type": "code",
   "execution_count": 11,
   "metadata": {},
   "outputs": [
    {
     "name": "stdout",
     "output_type": "stream",
     "text": [
      "> \u001b[0;32m<ipython-input-11-bdbc4f023b05>\u001b[0m(10)\u001b[0;36msum\u001b[0;34m()\u001b[0m\n",
      "\u001b[0;32m      8 \u001b[0;31m            \u001b[0mcount\u001b[0m \u001b[0;34m=\u001b[0m \u001b[0mcount\u001b[0m \u001b[0;34m+\u001b[0m \u001b[0mi\u001b[0m\u001b[0;34m\u001b[0m\u001b[0;34m\u001b[0m\u001b[0m\n",
      "\u001b[0m\u001b[0;32m      9 \u001b[0;31m            \u001b[0;32mimport\u001b[0m \u001b[0mpdb\u001b[0m\u001b[0;34m;\u001b[0m \u001b[0mpdb\u001b[0m\u001b[0;34m.\u001b[0m\u001b[0mset_trace\u001b[0m\u001b[0;34m(\u001b[0m\u001b[0;34m)\u001b[0m\u001b[0;34m\u001b[0m\u001b[0;34m\u001b[0m\u001b[0m\n",
      "\u001b[0m\u001b[0;32m---> 10 \u001b[0;31m            \u001b[0mprint\u001b[0m\u001b[0;34m(\u001b[0m\u001b[0mcount\u001b[0m\u001b[0;34m)\u001b[0m\u001b[0;34m\u001b[0m\u001b[0;34m\u001b[0m\u001b[0m\n",
      "\u001b[0m\u001b[0;32m     11 \u001b[0;31m        \u001b[0;32mreturn\u001b[0m \u001b[0mcount\u001b[0m\u001b[0;34m\u001b[0m\u001b[0;34m\u001b[0m\u001b[0m\n",
      "\u001b[0m\u001b[0;32m     12 \u001b[0;31m\u001b[0mx\u001b[0m \u001b[0;34m=\u001b[0m \u001b[0;34m[\u001b[0m\u001b[0;36m1\u001b[0m\u001b[0;34m,\u001b[0m\u001b[0;36m2\u001b[0m\u001b[0;34m,\u001b[0m\u001b[0;36m3\u001b[0m\u001b[0;34m,\u001b[0m\u001b[0;36m4\u001b[0m\u001b[0;34m,\u001b[0m\u001b[0;36m5\u001b[0m\u001b[0;34m]\u001b[0m\u001b[0;34m\u001b[0m\u001b[0;34m\u001b[0m\u001b[0m\n",
      "\u001b[0m\n",
      "ipdb> c\n",
      "1\n",
      "> \u001b[0;32m<ipython-input-11-bdbc4f023b05>\u001b[0m(9)\u001b[0;36msum\u001b[0;34m()\u001b[0m\n",
      "\u001b[0;32m      7 \u001b[0;31m        \u001b[0;32mfor\u001b[0m \u001b[0mi\u001b[0m \u001b[0;32min\u001b[0m \u001b[0mself\u001b[0m\u001b[0;34m.\u001b[0m\u001b[0mx\u001b[0m\u001b[0;34m:\u001b[0m\u001b[0;34m\u001b[0m\u001b[0;34m\u001b[0m\u001b[0m\n",
      "\u001b[0m\u001b[0;32m      8 \u001b[0;31m            \u001b[0mcount\u001b[0m \u001b[0;34m=\u001b[0m \u001b[0mcount\u001b[0m \u001b[0;34m+\u001b[0m \u001b[0mi\u001b[0m\u001b[0;34m\u001b[0m\u001b[0;34m\u001b[0m\u001b[0m\n",
      "\u001b[0m\u001b[0;32m----> 9 \u001b[0;31m            \u001b[0;32mimport\u001b[0m \u001b[0mpdb\u001b[0m\u001b[0;34m;\u001b[0m \u001b[0mpdb\u001b[0m\u001b[0;34m.\u001b[0m\u001b[0mset_trace\u001b[0m\u001b[0;34m(\u001b[0m\u001b[0;34m)\u001b[0m\u001b[0;34m\u001b[0m\u001b[0;34m\u001b[0m\u001b[0m\n",
      "\u001b[0m\u001b[0;32m     10 \u001b[0;31m            \u001b[0mprint\u001b[0m\u001b[0;34m(\u001b[0m\u001b[0mcount\u001b[0m\u001b[0;34m)\u001b[0m\u001b[0;34m\u001b[0m\u001b[0;34m\u001b[0m\u001b[0m\n",
      "\u001b[0m\u001b[0;32m     11 \u001b[0;31m        \u001b[0;32mreturn\u001b[0m \u001b[0mcount\u001b[0m\u001b[0;34m\u001b[0m\u001b[0;34m\u001b[0m\u001b[0m\n",
      "\u001b[0m\n",
      "ipdb> c\n",
      "3\n",
      "> \u001b[0;32m<ipython-input-11-bdbc4f023b05>\u001b[0m(10)\u001b[0;36msum\u001b[0;34m()\u001b[0m\n",
      "\u001b[0;32m      8 \u001b[0;31m            \u001b[0mcount\u001b[0m \u001b[0;34m=\u001b[0m \u001b[0mcount\u001b[0m \u001b[0;34m+\u001b[0m \u001b[0mi\u001b[0m\u001b[0;34m\u001b[0m\u001b[0;34m\u001b[0m\u001b[0m\n",
      "\u001b[0m\u001b[0;32m      9 \u001b[0;31m            \u001b[0;32mimport\u001b[0m \u001b[0mpdb\u001b[0m\u001b[0;34m;\u001b[0m \u001b[0mpdb\u001b[0m\u001b[0;34m.\u001b[0m\u001b[0mset_trace\u001b[0m\u001b[0;34m(\u001b[0m\u001b[0;34m)\u001b[0m\u001b[0;34m\u001b[0m\u001b[0;34m\u001b[0m\u001b[0m\n",
      "\u001b[0m\u001b[0;32m---> 10 \u001b[0;31m            \u001b[0mprint\u001b[0m\u001b[0;34m(\u001b[0m\u001b[0mcount\u001b[0m\u001b[0;34m)\u001b[0m\u001b[0;34m\u001b[0m\u001b[0;34m\u001b[0m\u001b[0m\n",
      "\u001b[0m\u001b[0;32m     11 \u001b[0;31m        \u001b[0;32mreturn\u001b[0m \u001b[0mcount\u001b[0m\u001b[0;34m\u001b[0m\u001b[0;34m\u001b[0m\u001b[0m\n",
      "\u001b[0m\u001b[0;32m     12 \u001b[0;31m\u001b[0mx\u001b[0m \u001b[0;34m=\u001b[0m \u001b[0;34m[\u001b[0m\u001b[0;36m1\u001b[0m\u001b[0;34m,\u001b[0m\u001b[0;36m2\u001b[0m\u001b[0;34m,\u001b[0m\u001b[0;36m3\u001b[0m\u001b[0;34m,\u001b[0m\u001b[0;36m4\u001b[0m\u001b[0;34m,\u001b[0m\u001b[0;36m5\u001b[0m\u001b[0;34m]\u001b[0m\u001b[0;34m\u001b[0m\u001b[0;34m\u001b[0m\u001b[0m\n",
      "\u001b[0m\n",
      "ipdb> c\n",
      "6\n",
      "> \u001b[0;32m<ipython-input-11-bdbc4f023b05>\u001b[0m(9)\u001b[0;36msum\u001b[0;34m()\u001b[0m\n",
      "\u001b[0;32m      7 \u001b[0;31m        \u001b[0;32mfor\u001b[0m \u001b[0mi\u001b[0m \u001b[0;32min\u001b[0m \u001b[0mself\u001b[0m\u001b[0;34m.\u001b[0m\u001b[0mx\u001b[0m\u001b[0;34m:\u001b[0m\u001b[0;34m\u001b[0m\u001b[0;34m\u001b[0m\u001b[0m\n",
      "\u001b[0m\u001b[0;32m      8 \u001b[0;31m            \u001b[0mcount\u001b[0m \u001b[0;34m=\u001b[0m \u001b[0mcount\u001b[0m \u001b[0;34m+\u001b[0m \u001b[0mi\u001b[0m\u001b[0;34m\u001b[0m\u001b[0;34m\u001b[0m\u001b[0m\n",
      "\u001b[0m\u001b[0;32m----> 9 \u001b[0;31m            \u001b[0;32mimport\u001b[0m \u001b[0mpdb\u001b[0m\u001b[0;34m;\u001b[0m \u001b[0mpdb\u001b[0m\u001b[0;34m.\u001b[0m\u001b[0mset_trace\u001b[0m\u001b[0;34m(\u001b[0m\u001b[0;34m)\u001b[0m\u001b[0;34m\u001b[0m\u001b[0;34m\u001b[0m\u001b[0m\n",
      "\u001b[0m\u001b[0;32m     10 \u001b[0;31m            \u001b[0mprint\u001b[0m\u001b[0;34m(\u001b[0m\u001b[0mcount\u001b[0m\u001b[0;34m)\u001b[0m\u001b[0;34m\u001b[0m\u001b[0;34m\u001b[0m\u001b[0m\n",
      "\u001b[0m\u001b[0;32m     11 \u001b[0;31m        \u001b[0;32mreturn\u001b[0m \u001b[0mcount\u001b[0m\u001b[0;34m\u001b[0m\u001b[0;34m\u001b[0m\u001b[0m\n",
      "\u001b[0m\n",
      "ipdb> c\n",
      "10\n",
      "> \u001b[0;32m<ipython-input-11-bdbc4f023b05>\u001b[0m(10)\u001b[0;36msum\u001b[0;34m()\u001b[0m\n",
      "\u001b[0;32m      8 \u001b[0;31m            \u001b[0mcount\u001b[0m \u001b[0;34m=\u001b[0m \u001b[0mcount\u001b[0m \u001b[0;34m+\u001b[0m \u001b[0mi\u001b[0m\u001b[0;34m\u001b[0m\u001b[0;34m\u001b[0m\u001b[0m\n",
      "\u001b[0m\u001b[0;32m      9 \u001b[0;31m            \u001b[0;32mimport\u001b[0m \u001b[0mpdb\u001b[0m\u001b[0;34m;\u001b[0m \u001b[0mpdb\u001b[0m\u001b[0;34m.\u001b[0m\u001b[0mset_trace\u001b[0m\u001b[0;34m(\u001b[0m\u001b[0;34m)\u001b[0m\u001b[0;34m\u001b[0m\u001b[0;34m\u001b[0m\u001b[0m\n",
      "\u001b[0m\u001b[0;32m---> 10 \u001b[0;31m            \u001b[0mprint\u001b[0m\u001b[0;34m(\u001b[0m\u001b[0mcount\u001b[0m\u001b[0;34m)\u001b[0m\u001b[0;34m\u001b[0m\u001b[0;34m\u001b[0m\u001b[0m\n",
      "\u001b[0m\u001b[0;32m     11 \u001b[0;31m        \u001b[0;32mreturn\u001b[0m \u001b[0mcount\u001b[0m\u001b[0;34m\u001b[0m\u001b[0;34m\u001b[0m\u001b[0m\n",
      "\u001b[0m\u001b[0;32m     12 \u001b[0;31m\u001b[0mx\u001b[0m \u001b[0;34m=\u001b[0m \u001b[0;34m[\u001b[0m\u001b[0;36m1\u001b[0m\u001b[0;34m,\u001b[0m\u001b[0;36m2\u001b[0m\u001b[0;34m,\u001b[0m\u001b[0;36m3\u001b[0m\u001b[0;34m,\u001b[0m\u001b[0;36m4\u001b[0m\u001b[0;34m,\u001b[0m\u001b[0;36m5\u001b[0m\u001b[0;34m]\u001b[0m\u001b[0;34m\u001b[0m\u001b[0;34m\u001b[0m\u001b[0m\n",
      "\u001b[0m\n",
      "ipdb> c\n",
      "15\n",
      "15\n"
     ]
    }
   ],
   "source": [
    "class Sum:\n",
    "    def __init__(self,x):\n",
    "        self.x = x\n",
    "    \n",
    "    def sum(self):\n",
    "        count = 0\n",
    "        for i in self.x:\n",
    "            count = count + i\n",
    "            import pdb; pdb.set_trace()\n",
    "            print(count)\n",
    "        return count\n",
    "x = [1,2,3,4,5]\n",
    "\n",
    "c = Sum(x)\n",
    "print(c.sum())"
   ]
  },
  {
   "cell_type": "markdown",
   "metadata": {},
   "source": [
    "# 6. Implement the class hierarchy shown below in a Python program that does the following: (6 points).\n",
    "\n",
    "Use the given figure to create Person as the abstract base class with abstract a method called info() that prints Name, Department, University ID by passing as a parameter.\n",
    "\n",
    "Implement the subclasses Student, Employee, Graduate, Undergrad, TA, and Faculty that use appropriate types and return values by inheriting methods from their respective classes. Also include subclass-specific methods of your own choice. \n",
    "\n",
    "Write code that creates objects of all subclasses and uses the methods to print by passing any values of your choice\n"
   ]
  },
  {
   "cell_type": "code",
   "execution_count": 40,
   "metadata": {},
   "outputs": [
    {
     "name": "stdout",
     "output_type": "stream",
     "text": [
      "Name: Sreya  Department: HI  ID: 2000960775\n",
      "A grade is alloted to: Sreya\n",
      "Name: Likitha  Department: Data Science  ID: 210335\n",
      "A grade is alloted to: Likitha\n",
      "Likitha hasPainting skills\n"
     ]
    }
   ],
   "source": [
    "from abc import ABC, abstractmethod\n",
    "class Person(ABC):\n",
    "    def __init__(self, name, dept, uni_id):\n",
    "        self.name = name\n",
    "        self.dept = dept\n",
    "        self.uni_id = uni_id\n",
    "    @abstractmethod\n",
    "    def info(self):\n",
    "        pass\n",
    "    \n",
    "class Student(Person):\n",
    "    def info(self):\n",
    "        return \"Name: \" + self.name + \"  Department: \" + self.dept + \"  ID: \" + str(self.uni_id)\n",
    "    def grade(self):\n",
    "        return 'A grade is alloted to: ' + self.name \n",
    "\n",
    "a = Student('Sreya', 'HI', 2000960775)\n",
    "print(a.info())\n",
    "print(a.grade())\n",
    "\n",
    "\n",
    "\n",
    "class Graduate(Student):\n",
    "    def skill(self, skill):\n",
    "        return self.name + \" \" + \"has\" + skill\n",
    "    \n",
    "g = Graduate('Likitha', 'Data Science', 210335)\n",
    "print(g.info())\n",
    "print(g.grade())\n",
    "print(g.skill('Painting skills'))\n"
   ]
  },
  {
   "cell_type": "code",
   "execution_count": 38,
   "metadata": {},
   "outputs": [
    {
     "name": "stdout",
     "output_type": "stream",
     "text": [
      "Name: Alice  Department: Computer Science  ID: 160950775\n",
      "Alicehas PHD\n",
      "Name: Jasmine  Department: HCI  ID: 450227\n",
      "Jasminehas PHD\n",
      "Jasmine basepay is: 20000\n",
      "Name: David  Department: HI  ID: 926978\n",
      "Davidhas PHD\n",
      "David designation is: Assistant Professor\n"
     ]
    }
   ],
   "source": [
    "class Employee(Person):\n",
    "    def info(self):\n",
    "        return \"Name: \" + self.name + \"  Department: \" + self.dept + \"  ID: \" + str(self.uni_id)\n",
    "    def empeducation(self):\n",
    "        return self.name + 'has PHD'\n",
    "b = Employee('Alice', 'Computer Science', 160950775)\n",
    "print(b.info())\n",
    "print(b.empeducation())\n",
    "\n",
    "\n",
    "class TA(Employee):\n",
    "    def basepay(self, basepay):\n",
    "        return self.name + ' ' + 'basepay is: ' + str(basepay) \n",
    "e = TA('Jasmine', 'HCI', 450227)\n",
    "print(e.info())\n",
    "print(e.empeducation())\n",
    "print(e.basepay(20000))\n",
    "\n",
    "class Faculty(Employee):\n",
    "    def designation(self, designation):\n",
    "        return self.name + \" \" + 'designation is: ' + str(designation)\n",
    "\n",
    "f = Faculty('David', 'HI', 926978)\n",
    "print(f.info())\n",
    "print(f.empeducation())\n",
    "print(f.designation('Assistant Professor'))"
   ]
  },
  {
   "cell_type": "code",
   "execution_count": 44,
   "metadata": {},
   "outputs": [
    {
     "name": "stdout",
     "output_type": "stream",
     "text": [
      "Name: Mike  Department: Data Science  ID: 210343\n",
      "A grade is alloted to: Mike\n",
      "Mikehas PHD\n"
     ]
    },
    {
     "ename": "AttributeError",
     "evalue": "'Undergrad' object has no attribute 'basepay'",
     "output_type": "error",
     "traceback": [
      "\u001b[0;31m---------------------------------------------------------------------------\u001b[0m",
      "\u001b[0;31mAttributeError\u001b[0m                            Traceback (most recent call last)",
      "\u001b[0;32m<ipython-input-44-a70c6f935c53>\u001b[0m in \u001b[0;36m<module>\u001b[0;34m\u001b[0m\n\u001b[1;32m      6\u001b[0m \u001b[0mprint\u001b[0m\u001b[0;34m(\u001b[0m\u001b[0md\u001b[0m\u001b[0;34m.\u001b[0m\u001b[0mgrade\u001b[0m\u001b[0;34m(\u001b[0m\u001b[0;34m)\u001b[0m\u001b[0;34m)\u001b[0m\u001b[0;34m\u001b[0m\u001b[0;34m\u001b[0m\u001b[0m\n\u001b[1;32m      7\u001b[0m \u001b[0mprint\u001b[0m\u001b[0;34m(\u001b[0m\u001b[0md\u001b[0m\u001b[0;34m.\u001b[0m\u001b[0mempeducation\u001b[0m\u001b[0;34m(\u001b[0m\u001b[0;34m)\u001b[0m\u001b[0;34m)\u001b[0m\u001b[0;34m\u001b[0m\u001b[0;34m\u001b[0m\u001b[0m\n\u001b[0;32m----> 8\u001b[0;31m \u001b[0mprint\u001b[0m\u001b[0;34m(\u001b[0m\u001b[0md\u001b[0m\u001b[0;34m.\u001b[0m\u001b[0mbasepay\u001b[0m\u001b[0;34m(\u001b[0m\u001b[0;36m20000\u001b[0m\u001b[0;34m)\u001b[0m\u001b[0;34m)\u001b[0m\u001b[0;34m\u001b[0m\u001b[0;34m\u001b[0m\u001b[0m\n\u001b[0m\u001b[1;32m      9\u001b[0m \u001b[0mprint\u001b[0m\u001b[0;34m(\u001b[0m\u001b[0md\u001b[0m\u001b[0;34m.\u001b[0m\u001b[0mpostion\u001b[0m\u001b[0;34m(\u001b[0m\u001b[0;34m'Research Assistant'\u001b[0m\u001b[0;34m)\u001b[0m\u001b[0;34m)\u001b[0m\u001b[0;34m\u001b[0m\u001b[0;34m\u001b[0m\u001b[0m\n",
      "\u001b[0;31mAttributeError\u001b[0m: 'Undergrad' object has no attribute 'basepay'"
     ]
    }
   ],
   "source": [
    "class Undergrad(Student,TA):\n",
    "    def position (self, position):\n",
    "        return self.name + \" \" + 'has started a new position as :' + \" \" + position\n",
    "d = Undergrad('Mike', 'Data Science', 210343)\n",
    "print(d.info())\n",
    "print(d.grade())\n",
    "print(d.empeducation())\n",
    "print(d.basepay(20000))\n",
    "print(d.postion('Research Assistant'))\n"
   ]
  },
  {
   "cell_type": "code",
   "execution_count": null,
   "metadata": {},
   "outputs": [],
   "source": []
  }
 ],
 "metadata": {
  "kernelspec": {
   "display_name": "Python 3",
   "language": "python",
   "name": "python3"
  },
  "language_info": {
   "codemirror_mode": {
    "name": "ipython",
    "version": 3
   },
   "file_extension": ".py",
   "mimetype": "text/x-python",
   "name": "python",
   "nbconvert_exporter": "python",
   "pygments_lexer": "ipython3",
   "version": "3.8.10"
  }
 },
 "nbformat": 4,
 "nbformat_minor": 4
}
