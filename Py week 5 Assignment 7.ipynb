{
 "cells": [
  {
   "cell_type": "markdown",
   "metadata": {},
   "source": [
    "# 1.Explain in your own words the time complexity (as a  markdown cell next to the code cell) with of the following with your own example in python. Submit in the notebook. (6 Points)\n",
    "\n",
    "Linear and log-linear n(log n)\n",
    "Exponential complexity\n",
    "Polynomial complexity\n",
    "\n",
    "\n"
   ]
  },
  {
   "cell_type": "markdown",
   "metadata": {},
   "source": [
    "\n",
    "A. Linear Time Complexity - O(n)\n",
    "When the running time increases linearly with the size of the input data.\n",
    "\n",
    "Example:\n",
    "def linearSrch(data, value):\n",
    "    for i in data:\n",
    "        if i==value:\n",
    "            return True\n",
    "    return False\n",
    "list = [2,4,6,8,10] \n",
    "print (linearSrch(list, 0)) \n",
    "print (linearSrch(list, 8))\n",
    "\n",
    "In the above example, if the number of values in list increase, the time to compute also increases. Hence, linear time complexity.\n",
    "\n",
    "\n",
    "\n",
    "B. Log Linear Time Complexity - O (n log n)\n",
    "When each operation in the input has a logarithm time complexity and grows constantly defines log linear complexity.\n",
    "\n",
    "Example:\n",
    "def foo(x):\n",
    "    n = len(x)\n",
    "    print(x)\n",
    "    if n <= 1:\n",
    "        print(“return”)\n",
    "        return 17\n",
    "    return foo(x[:n//2]) + foo(x[n//2:])\n",
    "\n",
    "\n",
    "\n",
    "C. Exponential Complexity – O(Cn)\n",
    "When the running time grows exponentially with a new addition of data to the input. Here the base remains constant, and the power depends on the input.\n",
    "\n",
    "Example:\n",
    "def Fibonacci(num):\n",
    "    if num < 0:\n",
    "        print(\"Enter a correct input\")\n",
    "    elif num == 0:\n",
    "        return 0\n",
    "    elif num == 1 or num == 2:\n",
    "        return 1\n",
    "    else:\n",
    "        return Fibonacci(num-1) + Fibonacci(num-2)\n",
    "print (Fibonacci(15))\n",
    "\n",
    "In above example, the complexity is dependent on num. If num increases, the execution time grows exponentially.\n",
    "\n",
    "\n",
    "\n",
    "D.Polynomial Complexity – O(nk)\n",
    "This complexity is applicable hen performing a linear time operation for data in the input which contain multiple loops (nested loops). Here the base depends on the input and the power remains constant.\n",
    "\n",
    "Example:\n",
    "def search(data):\n",
    "    for i in data:\n",
    "        for j in data:\n",
    "            print(i, j)\n",
    "search(range(10))\n",
    "\n",
    "In the above example, function will loop over every element in data and then for each item iterated over it’ll loop through the same top-level input collection again and results in O(n2).\n"
   ]
  },
  {
   "cell_type": "markdown",
   "metadata": {},
   "source": [
    "# 3. Identify the complexity for each block from the below code and derive the overall time complexity for the function. Explain in your own words. (6 Points)\n",
    "\n"
   ]
  },
  {
   "attachments": {},
   "cell_type": "markdown",
   "metadata": {},
   "source": [
    "Block -1:\n",
    "Polynomial complexity\n",
    "There are three loops in block 1(nested loops).  \n",
    "Generally polynomial complexity is represented as O(nk)\n",
    "n- refers to the size of the input and k is the constant.\n",
    "In this block, if x==2 loop has a constant running time. And in the for loop i runs ‘n’ times and j runs ‘m’ times.\n",
    "Time complexity is represented as O (n*m)\n",
    "\n",
    "Block-2:\n",
    "Log-Logarithmic complexity\n",
    "In the outer while loop the value of i increases by factor 2 till it reaches n\n",
    "Here in j /= 2, there is proportional reduction of value of j by half till it less than m. \n",
    "Time complexity for this block is O(logn*logm)\n",
    "\n",
    "Block-3:\n",
    "Logarithmic complexity\n",
    "While the value of i is less than n, it increases by a power of 2. Hence it is an example of logarithmic complexity.\n",
    "It is represented as O(log N)\n",
    "As the given assignment doesn’t contain any break statement, the loop runs indefinitely. So, time complexity cannot be defined in such cases. Otherwise, it is Logarithmic complexity.\n",
    "\n",
    "The overall complexity of the given function is Polynomial. \n",
    "Overall time complexity is = O (n*m) + O (logn*logm) + O (log N) \n",
    "                           = O(n*m)\n",
    "We choose polynomial complexity for this function because, Big O(Asymptotic notation) notation always gives upper bound or the worst case scenario for the given input. This means the maximum running time is estimated and taken into consideration for the given input of data."
   ]
  },
  {
   "cell_type": "code",
   "execution_count": null,
   "metadata": {},
   "outputs": [],
   "source": []
  }
 ],
 "metadata": {
  "kernelspec": {
   "display_name": "Python 3",
   "language": "python",
   "name": "python3"
  },
  "language_info": {
   "codemirror_mode": {
    "name": "ipython",
    "version": 3
   },
   "file_extension": ".py",
   "mimetype": "text/x-python",
   "name": "python",
   "nbconvert_exporter": "python",
   "pygments_lexer": "ipython3",
   "version": "3.8.10"
  }
 },
 "nbformat": 4,
 "nbformat_minor": 4
}
