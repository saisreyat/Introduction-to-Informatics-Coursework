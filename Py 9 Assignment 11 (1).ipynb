{
 "cells": [
  {
   "cell_type": "markdown",
   "metadata": {},
   "source": [
    "# 1. Read and extract data from the file sales_data.csv  Download sales_data.csv. Calculate the Total Cost by multiplying Quantity Ordered and Price each column and save it to the file. Create a bar chart of Year ID versus Total Cost with appropriate labels, titles, and axis. (3 Points)"
   ]
  },
  {
   "cell_type": "code",
   "execution_count": 2,
   "metadata": {},
   "outputs": [
    {
     "data": {
      "text/html": [
       "<div>\n",
       "<style scoped>\n",
       "    .dataframe tbody tr th:only-of-type {\n",
       "        vertical-align: middle;\n",
       "    }\n",
       "\n",
       "    .dataframe tbody tr th {\n",
       "        vertical-align: top;\n",
       "    }\n",
       "\n",
       "    .dataframe thead th {\n",
       "        text-align: right;\n",
       "    }\n",
       "</style>\n",
       "<table border=\"1\" class=\"dataframe\">\n",
       "  <thead>\n",
       "    <tr style=\"text-align: right;\">\n",
       "      <th></th>\n",
       "      <th>Unnamed: 0</th>\n",
       "      <th>ORDERNUMBER</th>\n",
       "      <th>QUANTITYORDERED</th>\n",
       "      <th>PRICEEACH</th>\n",
       "      <th>SALES</th>\n",
       "      <th>MONTH_ID</th>\n",
       "      <th>YEAR_ID</th>\n",
       "      <th>Total Cost</th>\n",
       "    </tr>\n",
       "  </thead>\n",
       "  <tbody>\n",
       "    <tr>\n",
       "      <th>count</th>\n",
       "      <td>2823.00000</td>\n",
       "      <td>2823.000000</td>\n",
       "      <td>2823.000000</td>\n",
       "      <td>2823.000000</td>\n",
       "      <td>2823.000000</td>\n",
       "      <td>2823.000000</td>\n",
       "      <td>2823.00000</td>\n",
       "      <td>2823.000000</td>\n",
       "    </tr>\n",
       "    <tr>\n",
       "      <th>mean</th>\n",
       "      <td>1411.00000</td>\n",
       "      <td>10258.725115</td>\n",
       "      <td>35.092809</td>\n",
       "      <td>83.658544</td>\n",
       "      <td>3553.889072</td>\n",
       "      <td>7.092455</td>\n",
       "      <td>2003.81509</td>\n",
       "      <td>2936.906408</td>\n",
       "    </tr>\n",
       "    <tr>\n",
       "      <th>std</th>\n",
       "      <td>815.07423</td>\n",
       "      <td>92.085478</td>\n",
       "      <td>9.741443</td>\n",
       "      <td>20.174277</td>\n",
       "      <td>1841.865106</td>\n",
       "      <td>3.656633</td>\n",
       "      <td>0.69967</td>\n",
       "      <td>1105.644284</td>\n",
       "    </tr>\n",
       "    <tr>\n",
       "      <th>min</th>\n",
       "      <td>0.00000</td>\n",
       "      <td>10100.000000</td>\n",
       "      <td>6.000000</td>\n",
       "      <td>26.880000</td>\n",
       "      <td>482.130000</td>\n",
       "      <td>1.000000</td>\n",
       "      <td>2003.00000</td>\n",
       "      <td>482.130000</td>\n",
       "    </tr>\n",
       "    <tr>\n",
       "      <th>25%</th>\n",
       "      <td>705.50000</td>\n",
       "      <td>10180.000000</td>\n",
       "      <td>27.000000</td>\n",
       "      <td>68.860000</td>\n",
       "      <td>2203.430000</td>\n",
       "      <td>4.000000</td>\n",
       "      <td>2003.00000</td>\n",
       "      <td>2100.000000</td>\n",
       "    </tr>\n",
       "    <tr>\n",
       "      <th>50%</th>\n",
       "      <td>1411.00000</td>\n",
       "      <td>10262.000000</td>\n",
       "      <td>35.000000</td>\n",
       "      <td>95.700000</td>\n",
       "      <td>3184.800000</td>\n",
       "      <td>8.000000</td>\n",
       "      <td>2004.00000</td>\n",
       "      <td>2800.000000</td>\n",
       "    </tr>\n",
       "    <tr>\n",
       "      <th>75%</th>\n",
       "      <td>2116.50000</td>\n",
       "      <td>10333.500000</td>\n",
       "      <td>43.000000</td>\n",
       "      <td>100.000000</td>\n",
       "      <td>4508.000000</td>\n",
       "      <td>11.000000</td>\n",
       "      <td>2004.00000</td>\n",
       "      <td>3726.810000</td>\n",
       "    </tr>\n",
       "    <tr>\n",
       "      <th>max</th>\n",
       "      <td>2822.00000</td>\n",
       "      <td>10425.000000</td>\n",
       "      <td>97.000000</td>\n",
       "      <td>100.000000</td>\n",
       "      <td>14082.800000</td>\n",
       "      <td>12.000000</td>\n",
       "      <td>2005.00000</td>\n",
       "      <td>9048.160000</td>\n",
       "    </tr>\n",
       "  </tbody>\n",
       "</table>\n",
       "</div>"
      ],
      "text/plain": [
       "       Unnamed: 0   ORDERNUMBER  QUANTITYORDERED    PRICEEACH         SALES  \\\n",
       "count  2823.00000   2823.000000      2823.000000  2823.000000   2823.000000   \n",
       "mean   1411.00000  10258.725115        35.092809    83.658544   3553.889072   \n",
       "std     815.07423     92.085478         9.741443    20.174277   1841.865106   \n",
       "min       0.00000  10100.000000         6.000000    26.880000    482.130000   \n",
       "25%     705.50000  10180.000000        27.000000    68.860000   2203.430000   \n",
       "50%    1411.00000  10262.000000        35.000000    95.700000   3184.800000   \n",
       "75%    2116.50000  10333.500000        43.000000   100.000000   4508.000000   \n",
       "max    2822.00000  10425.000000        97.000000   100.000000  14082.800000   \n",
       "\n",
       "          MONTH_ID     YEAR_ID   Total Cost  \n",
       "count  2823.000000  2823.00000  2823.000000  \n",
       "mean      7.092455  2003.81509  2936.906408  \n",
       "std       3.656633     0.69967  1105.644284  \n",
       "min       1.000000  2003.00000   482.130000  \n",
       "25%       4.000000  2003.00000  2100.000000  \n",
       "50%       8.000000  2004.00000  2800.000000  \n",
       "75%      11.000000  2004.00000  3726.810000  \n",
       "max      12.000000  2005.00000  9048.160000  "
      ]
     },
     "execution_count": 2,
     "metadata": {},
     "output_type": "execute_result"
    }
   ],
   "source": [
    "import pandas as pd\n",
    "df_sales = pd.read_csv('sales_data_sample.csv')\n",
    "df_sales.describe()"
   ]
  },
  {
   "cell_type": "code",
   "execution_count": 28,
   "metadata": {},
   "outputs": [
    {
     "data": {
      "text/html": [
       "<div>\n",
       "<style scoped>\n",
       "    .dataframe tbody tr th:only-of-type {\n",
       "        vertical-align: middle;\n",
       "    }\n",
       "\n",
       "    .dataframe tbody tr th {\n",
       "        vertical-align: top;\n",
       "    }\n",
       "\n",
       "    .dataframe thead th {\n",
       "        text-align: right;\n",
       "    }\n",
       "</style>\n",
       "<table border=\"1\" class=\"dataframe\">\n",
       "  <thead>\n",
       "    <tr style=\"text-align: right;\">\n",
       "      <th></th>\n",
       "      <th>Unnamed: 0</th>\n",
       "      <th>ORDERNUMBER</th>\n",
       "      <th>QUANTITYORDERED</th>\n",
       "      <th>PRICEEACH</th>\n",
       "      <th>SALES</th>\n",
       "      <th>MONTH_ID</th>\n",
       "      <th>YEAR_ID</th>\n",
       "      <th>Total Cost</th>\n",
       "    </tr>\n",
       "  </thead>\n",
       "  <tbody>\n",
       "    <tr>\n",
       "      <th>count</th>\n",
       "      <td>2823.00000</td>\n",
       "      <td>2823.000000</td>\n",
       "      <td>2823.000000</td>\n",
       "      <td>2823.000000</td>\n",
       "      <td>2823.000000</td>\n",
       "      <td>2823.000000</td>\n",
       "      <td>2823.00000</td>\n",
       "      <td>2823.000000</td>\n",
       "    </tr>\n",
       "    <tr>\n",
       "      <th>mean</th>\n",
       "      <td>1411.00000</td>\n",
       "      <td>10258.725115</td>\n",
       "      <td>35.092809</td>\n",
       "      <td>83.658544</td>\n",
       "      <td>3553.889072</td>\n",
       "      <td>7.092455</td>\n",
       "      <td>2003.81509</td>\n",
       "      <td>2936.906408</td>\n",
       "    </tr>\n",
       "    <tr>\n",
       "      <th>std</th>\n",
       "      <td>815.07423</td>\n",
       "      <td>92.085478</td>\n",
       "      <td>9.741443</td>\n",
       "      <td>20.174277</td>\n",
       "      <td>1841.865106</td>\n",
       "      <td>3.656633</td>\n",
       "      <td>0.69967</td>\n",
       "      <td>1105.644284</td>\n",
       "    </tr>\n",
       "    <tr>\n",
       "      <th>min</th>\n",
       "      <td>0.00000</td>\n",
       "      <td>10100.000000</td>\n",
       "      <td>6.000000</td>\n",
       "      <td>26.880000</td>\n",
       "      <td>482.130000</td>\n",
       "      <td>1.000000</td>\n",
       "      <td>2003.00000</td>\n",
       "      <td>482.130000</td>\n",
       "    </tr>\n",
       "    <tr>\n",
       "      <th>25%</th>\n",
       "      <td>705.50000</td>\n",
       "      <td>10180.000000</td>\n",
       "      <td>27.000000</td>\n",
       "      <td>68.860000</td>\n",
       "      <td>2203.430000</td>\n",
       "      <td>4.000000</td>\n",
       "      <td>2003.00000</td>\n",
       "      <td>2100.000000</td>\n",
       "    </tr>\n",
       "    <tr>\n",
       "      <th>50%</th>\n",
       "      <td>1411.00000</td>\n",
       "      <td>10262.000000</td>\n",
       "      <td>35.000000</td>\n",
       "      <td>95.700000</td>\n",
       "      <td>3184.800000</td>\n",
       "      <td>8.000000</td>\n",
       "      <td>2004.00000</td>\n",
       "      <td>2800.000000</td>\n",
       "    </tr>\n",
       "    <tr>\n",
       "      <th>75%</th>\n",
       "      <td>2116.50000</td>\n",
       "      <td>10333.500000</td>\n",
       "      <td>43.000000</td>\n",
       "      <td>100.000000</td>\n",
       "      <td>4508.000000</td>\n",
       "      <td>11.000000</td>\n",
       "      <td>2004.00000</td>\n",
       "      <td>3726.810000</td>\n",
       "    </tr>\n",
       "    <tr>\n",
       "      <th>max</th>\n",
       "      <td>2822.00000</td>\n",
       "      <td>10425.000000</td>\n",
       "      <td>97.000000</td>\n",
       "      <td>100.000000</td>\n",
       "      <td>14082.800000</td>\n",
       "      <td>12.000000</td>\n",
       "      <td>2005.00000</td>\n",
       "      <td>9048.160000</td>\n",
       "    </tr>\n",
       "  </tbody>\n",
       "</table>\n",
       "</div>"
      ],
      "text/plain": [
       "       Unnamed: 0   ORDERNUMBER  QUANTITYORDERED    PRICEEACH         SALES  \\\n",
       "count  2823.00000   2823.000000      2823.000000  2823.000000   2823.000000   \n",
       "mean   1411.00000  10258.725115        35.092809    83.658544   3553.889072   \n",
       "std     815.07423     92.085478         9.741443    20.174277   1841.865106   \n",
       "min       0.00000  10100.000000         6.000000    26.880000    482.130000   \n",
       "25%     705.50000  10180.000000        27.000000    68.860000   2203.430000   \n",
       "50%    1411.00000  10262.000000        35.000000    95.700000   3184.800000   \n",
       "75%    2116.50000  10333.500000        43.000000   100.000000   4508.000000   \n",
       "max    2822.00000  10425.000000        97.000000   100.000000  14082.800000   \n",
       "\n",
       "          MONTH_ID     YEAR_ID   Total Cost  \n",
       "count  2823.000000  2823.00000  2823.000000  \n",
       "mean      7.092455  2003.81509  2936.906408  \n",
       "std       3.656633     0.69967  1105.644284  \n",
       "min       1.000000  2003.00000   482.130000  \n",
       "25%       4.000000  2003.00000  2100.000000  \n",
       "50%       8.000000  2004.00000  2800.000000  \n",
       "75%      11.000000  2004.00000  3726.810000  \n",
       "max      12.000000  2005.00000  9048.160000  "
      ]
     },
     "execution_count": 28,
     "metadata": {},
     "output_type": "execute_result"
    }
   ],
   "source": [
    "df_sales['Total Cost'] = df_sales.QUANTITYORDERED * df_sales.PRICEEACH\n",
    "df_sales.describe()"
   ]
  },
  {
   "cell_type": "code",
   "execution_count": 10,
   "metadata": {},
   "outputs": [],
   "source": [
    "df_sales.to_csv('sales_data_sample.csv', encoding='utf-8') \n"
   ]
  },
  {
   "cell_type": "code",
   "execution_count": 103,
   "metadata": {},
   "outputs": [
    {
     "data": {
      "image/png": "[encoded data removed]",
      "text/plain": [
       "<Figure size 432x288 with 1 Axes>"
      ]
     },
     "metadata": {
      "needs_background": "light"
     },
     "output_type": "display_data"
    }
   ],
   "source": [
    "import matplotlib.pyplot as plt\n",
    "x = df_sales['YEAR_ID']\n",
    "y = df_sales['Total Cost']\n",
    "plt.bar(x,y)\n",
    "plt.show()\n"
   ]
  },
  {
   "cell_type": "markdown",
   "metadata": {},
   "source": [
    "# 2. Read and extract the Price each and the Total Cost from the previous file, by using least-squares polynomial fit, create models that range from polynomial degrees of 1 to 3. i.e. create 3 models. Without plotting the models, identify which one is the best model and print the statistic used to identify the best fit model. (6 points)\n",
    "\n"
   ]
  },
  {
   "cell_type": "code",
   "execution_count": 16,
   "metadata": {},
   "outputs": [
    {
     "name": "stdout",
     "output_type": "stream",
     "text": [
      "Statistic used to identify the best fit model is: R-squared \n",
      "R-squared error for 1 model: 0.4143602213380768\n",
      "R-squared error for 2 model: 0.4143605185326895\n",
      "R-squared error for 3 model: 0.4143690811486085\n",
      "Model 3 with R-squared value of 0.4143690811486085 is the best model\n"
     ]
    }
   ],
   "source": [
    "import numpy as np\n",
    "import pandas as pd\n",
    "def rSquared(observed, predicted):\n",
    "    error = ((predicted - observed)**2).sum()\n",
    "    meanError= error/len(observed)\n",
    "    return 1 - (meanError/np.var(observed))\n",
    "\n",
    "def genFits(xVals, yVals, degrees): \n",
    "    models = []\n",
    "    for d in degrees:\n",
    "        model = np.polyfit(xVals,yVals, d)\n",
    "        models.append(model)\n",
    "    return models\n",
    "\n",
    "def testFits(models, degrees, xVals,yVals, title):\n",
    "    for i in range(len(models)):\n",
    "        estYVals= np.polyval(models[i], xVals)\n",
    "        error = rSquared(yVals, estYVals)\n",
    "        \n",
    "        print (f'R-squared error for {i+1} model:',error)\n",
    "\n",
    "print ('Statistic used to identify the best fit model is: R-squared ')\n",
    "\n",
    "xVals, yVals = df_sales['PRICEEACH'], df_sales['Total Cost']\n",
    "models = genFits(xVals, yVals,[1,2,3])\n",
    "testFits(models,[1,2,3],xVals,yVals, 'Comapring different degree polynomials' )\n",
    "\n",
    "print('Model 3 with R-squared value of 0.4143690811486085 is the best model')"
   ]
  },
  {
   "cell_type": "markdown",
   "metadata": {},
   "source": [
    "# 3. Write a Python program to generate 10 data between 10 to 30 that uses the sum of random variables that is a normal distribution and a 3rd-degree polynomial equation (4x3+2x2+5x+8). Using least-squares polynomial fit, curve the generated data using a model until your model can accurately predict all values (6 points)\n",
    "\n"
   ]
  },
  {
   "cell_type": "code",
   "execution_count": 97,
   "metadata": {},
   "outputs": [
    {
     "name": "stdout",
     "output_type": "stream",
     "text": [
      "[27 25 26 20 14 14 18 13 23 29]\n",
      "[15.6166842  15.84691809 16.07152368 18.42657644 20.0575845  23.36931398\n",
      " 24.36661035 26.36227029 26.47049316 28.41844167]\n",
      "[15808.28440057 16507.70157023 17209.64977954 25805.35498638\n",
      " 33190.10349456 52267.34729122 59186.21236722 74813.62355281\n",
      " 75731.84910031 93569.13160072]\n"
     ]
    }
   ],
   "source": [
    "from scipy import stats\n",
    "import numpy as np\n",
    "mean = 0\n",
    "stdv = 1\n",
    "x = np.random.randint(10,31,10)\n",
    "print(x)\n",
    "y = stats.norm.rvs(x,)\n",
    "y.sort()\n",
    "print(y)\n",
    "z = 4*y**3 + 2*y**2 + 5*y + 8\n",
    "z.sort()\n",
    "print(z)\n",
    "# y = stats.truncnorm.rvs(10,31,size=10)\n",
    "# y"
   ]
  },
  {
   "cell_type": "code",
   "execution_count": 101,
   "metadata": {},
   "outputs": [
    {
     "data": {
      "text/plain": [
       "[<matplotlib.lines.Line2D at 0x7f2d30467100>]"
      ]
     },
     "execution_count": 101,
     "metadata": {},
     "output_type": "execute_result"
    },
    {
     "data": {
      "image/png": "[encoded data removed]",
      "text/plain": [
       "<Figure size 432x288 with 1 Axes>"
      ]
     },
     "metadata": {
      "needs_background": "light"
     },
     "output_type": "display_data"
    }
   ],
   "source": [
    "xVals, yVals = y,z\n",
    "plt.plot(xVals, yVals, 'o', label = 'Data Points')\n",
    "plt.title('Random Variables')\n",
    "model1 = np.polyfit(xVals, yVals, 2) \n",
    "plt.plot(xVals, np.polyval(model1, xVals), label = 'Quadratic Model')"
   ]
  },
  {
   "cell_type": "markdown",
   "metadata": {},
   "source": [
    "# 4.Write a Python program to plot the t-distribution of the total cost of sales data (updated file of question 1) and overlay the plot with the t-distribution of a sample of 100 randomly selected sales. Both the t-distribution should be in the same chart, overlapping each other, but with different colors (5 points)  \n",
    "\n"
   ]
  },
  {
   "cell_type": "code",
   "execution_count": 6,
   "metadata": {},
   "outputs": [
    {
     "data": {
      "text/plain": [
       "<matplotlib.legend.Legend at 0x7f5818d82d90>"
      ]
     },
     "execution_count": 6,
     "metadata": {},
     "output_type": "execute_result"
    },
    {
     "data": {
      "image/png": "[encoded data removed]",
      "text/plain": [
       "<Figure size 432x288 with 1 Axes>"
      ]
     },
     "metadata": {
      "needs_background": "light"
     },
     "output_type": "display_data"
    }
   ],
   "source": [
    "import numpy as np \n",
    "import pandas as pd\n",
    "import matplotlib.pyplot as plt\n",
    "\n",
    "numBins = 30\n",
    "tDist = df_sales['Total Cost']\n",
    "sample = df_sales.sample(100)\n",
    "tDistsample = sample['SALES']\n",
    "\n",
    "plt.hist(tDist, bins=numBins, weights=np.array(len(tDist)*[1.0])/len(tDist), label='T Distribution')\n",
    "plt.hist(tDistsample, bins=numBins, weights=np.array(len(tDistsample)*[1.0])/len(tDistsample), label='T Distribution of random sample sales')\n",
    "plt.title('T Distribution & T Distribution of random sample sales')\n",
    "plt.xlabel('x in (SDs)')\n",
    "plt.ylabel('Probability Density')\n",
    "plt.legend()"
   ]
  },
  {
   "cell_type": "code",
   "execution_count": null,
   "metadata": {},
   "outputs": [],
   "source": []
  }
 ],
 "metadata": {
  "kernelspec": {
   "display_name": "Python 3",
   "language": "python",
   "name": "python3"
  },
  "language_info": {
   "codemirror_mode": {
    "name": "ipython",
    "version": 3
   },
   "file_extension": ".py",
   "mimetype": "text/x-python",
   "name": "python",
   "nbconvert_exporter": "python",
   "pygments_lexer": "ipython3",
   "version": "3.8.10"
  }
 },
 "nbformat": 4,
 "nbformat_minor": 4
}
