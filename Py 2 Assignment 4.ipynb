{
 "cells": [
  {
   "cell_type": "markdown",
   "metadata": {},
   "source": [
    "# 1. Print the calculated value for the area of the triangle by getting the height and base input from users"
   ]
  },
  {
   "cell_type": "code",
   "execution_count": 2,
   "metadata": {},
   "outputs": [
    {
     "name": "stdout",
     "output_type": "stream",
     "text": [
      "Enter height:12\n",
      "Enter base:5\n",
      "Area of the triangle is: 30\n"
     ]
    }
   ],
   "source": [
    "h = int(input('Enter height:'))\n",
    "b = int(input('Enter base:'))\n",
    "a= h*b//2\n",
    "print('Area of the triangle is:',a)\n"
   ]
  },
  {
   "cell_type": "markdown",
   "metadata": {},
   "source": [
    "# 2. Write a python program to print the reverse string of 'Introduction to informatics!'\n"
   ]
  },
  {
   "cell_type": "code",
   "execution_count": 1,
   "metadata": {},
   "outputs": [
    {
     "name": "stdout",
     "output_type": "stream",
     "text": [
      "!scitamrofni ot noitcudortnI\n"
     ]
    }
   ],
   "source": [
    "x = 'Introduction to informatics!'\n",
    "y = x[-1:-len(x)-1:-1]\n",
    "print(y)"
   ]
  },
  {
   "cell_type": "markdown",
   "metadata": {},
   "source": [
    "# 3. Find the highest two-digit number and lowest three-digit number from the list [22, 99, 76, 72, 442, 42, 590, 893, 4, 8, 83]\n"
   ]
  },
  {
   "cell_type": "code",
   "execution_count": 4,
   "metadata": {},
   "outputs": [
    {
     "name": "stdout",
     "output_type": "stream",
     "text": [
      "Highest two-digit number:  99\n",
      "Lowest three-digit number:  442\n"
     ]
    }
   ],
   "source": [
    "lst = [22, 99, 76, 72, 442, 42, 590, 893, 4, 8, 83]\n",
    "lhig = []\n",
    "for i in lst:\n",
    "    if i<=99:\n",
    "        lhig.append(i)\n",
    "print('Highest two-digit number:','',max(lhig))\n",
    "llow = []\n",
    "for i in lst:\n",
    "    if i>=100:\n",
    "        llow.append(i)\n",
    "print('Lowest three-digit number:','',min(llow))"
   ]
  },
  {
   "cell_type": "markdown",
   "metadata": {},
   "source": [
    "# 4. Write a python program to print the numbers that are divisible by 5 or 11 between 20 & 77 both included \n"
   ]
  },
  {
   "cell_type": "code",
   "execution_count": 1,
   "metadata": {},
   "outputs": [
    {
     "name": "stdout",
     "output_type": "stream",
     "text": [
      "20\n",
      "22\n",
      "25\n",
      "30\n",
      "33\n",
      "35\n",
      "40\n",
      "44\n",
      "45\n",
      "50\n",
      "55\n",
      "60\n",
      "65\n",
      "66\n",
      "70\n",
      "75\n",
      "77\n"
     ]
    }
   ],
   "source": [
    "x = 78\n",
    "for i in range (20,x):\n",
    "    if i%5==0 or i%11==0:\n",
    "        print(i)"
   ]
  },
  {
   "cell_type": "markdown",
   "metadata": {},
   "source": [
    "# 5. Write a python program to get 3 numbers from the user using a comma-separated input. Check if each number fall between 110 and 290 and print the appropriate message\n"
   ]
  },
  {
   "cell_type": "code",
   "execution_count": 5,
   "metadata": {},
   "outputs": [
    {
     "name": "stdout",
     "output_type": "stream",
     "text": [
      "Enter three numbers22,150,300\n",
      "Number does not fall between 110 and 290\n",
      "Number falls between 110 and 290\n",
      "Number does not fall between 110 and 290\n"
     ]
    }
   ],
   "source": [
    "n = input('Enter three numbers').split(',')\n",
    "for i in n:\n",
    "    i = int(i)\n",
    "    if i >= 110 and i <=290:\n",
    "        print('Number falls between 110 and 290')\n",
    "    else:\n",
    "        print('Number does not fall between 110 and 290')"
   ]
  },
  {
   "cell_type": "markdown",
   "metadata": {},
   "source": [
    "# 6. Get input from the user and print the multiple of that number from 1 to 15\n",
    " "
   ]
  },
  {
   "cell_type": "code",
   "execution_count": 3,
   "metadata": {},
   "outputs": [
    {
     "name": "stdout",
     "output_type": "stream",
     "text": [
      "Enter a number:12\n",
      "12*1=12\n",
      "12*2=24\n",
      "12*3=36\n",
      "12*4=48\n",
      "12*5=60\n",
      "12*6=72\n",
      "12*7=84\n",
      "12*8=96\n",
      "12*9=108\n",
      "12*10=120\n",
      "12*11=132\n",
      "12*12=144\n",
      "12*13=156\n",
      "12*14=168\n",
      "12*15=180\n"
     ]
    }
   ],
   "source": [
    "num = int(input('Enter a number:'))\n",
    "for i in range (1,16):\n",
    "    print(str(num) + '*' + str(i) + '=' + str(num*i))\n",
    "    \n",
    "        \n",
    "        "
   ]
  },
  {
   "cell_type": "markdown",
   "metadata": {},
   "source": [
    "# 7. Write a python program to output a number that is divisible by 6 and is as close to 74 as possible using exhaustive enumeration. \n"
   ]
  },
  {
   "cell_type": "code",
   "execution_count": 4,
   "metadata": {},
   "outputs": [
    {
     "name": "stdout",
     "output_type": "stream",
     "text": [
      "72\n"
     ]
    }
   ],
   "source": [
    "givennum = 74\n",
    "for i in range (74,6,-1):\n",
    "    if i%6==0:\n",
    "        print(i)\n",
    "        break"
   ]
  },
  {
   "cell_type": "markdown",
   "metadata": {},
   "source": [
    "# 8. Write a python function that sorts the number in the given list in ascending order without using a built-in function. The output should print the sorted list. Write additional statements that call this function and pass the list [3, 6, 1, 33, 8, 93, 2, 4, 6, 4]. \n"
   ]
  },
  {
   "cell_type": "code",
   "execution_count": 7,
   "metadata": {},
   "outputs": [
    {
     "name": "stdout",
     "output_type": "stream",
     "text": [
      "[1, 2, 3, 4, 4, 6, 6, 8, 33, 93]\n"
     ]
    }
   ],
   "source": [
    " def my_lst(lst):\n",
    "    x = len(lst)\n",
    "    for i in range(x):\n",
    "        for j in range(i+1,x):\n",
    "            if lst[i]>lst[j]:\n",
    "                lst[i],lst[j]=lst[j],lst[i]\n",
    "lst = [3, 6, 1, 33, 8, 93, 2, 4, 6, 4]\n",
    "my_lst(lst)\n",
    "print(lst)\n",
    "        "
   ]
  },
  {
   "cell_type": "markdown",
   "metadata": {},
   "source": [
    "# 9. Create a list with the values – (2 points)\n",
    "#'IUPUI', 'Bloomington', 'Cincinnati', 'Harvard', 'Stanford', 'illinois', 'Duke'\n",
    "\n",
    "#Print the second item in the tuple\n",
    "#Find the index of 'Cincinnati' in list."
   ]
  },
  {
   "cell_type": "code",
   "execution_count": 6,
   "metadata": {},
   "outputs": [
    {
     "name": "stdout",
     "output_type": "stream",
     "text": [
      "['IUPUI', 'Bloomington', 'Cincinnati', 'Harvard', 'Stanford', 'illinois', 'Duke']\n",
      "Bloomington\n",
      "2\n"
     ]
    }
   ],
   "source": [
    "mylst = ['IUPUI','Bloomington','Cincinnati','Harvard','Stanford','illinois','Duke']\n",
    "print(mylst)\n",
    "print(mylst[1])\n",
    "ind = mylst.index('Cincinnati')\n",
    "print(ind)"
   ]
  },
  {
   "cell_type": "code",
   "execution_count": null,
   "metadata": {},
   "outputs": [],
   "source": []
  }
 ],
 "metadata": {
  "kernelspec": {
   "display_name": "Python 3",
   "language": "python",
   "name": "python3"
  },
  "language_info": {
   "codemirror_mode": {
    "name": "ipython",
    "version": 3
   },
   "file_extension": ".py",
   "mimetype": "text/x-python",
   "name": "python",
   "nbconvert_exporter": "python",
   "pygments_lexer": "ipython3",
   "version": "3.8.10"
  }
 },
 "nbformat": 4,
 "nbformat_minor": 4
}
