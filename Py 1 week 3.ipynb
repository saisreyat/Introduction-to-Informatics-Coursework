{
 "cells": [
  {
   "cell_type": "markdown",
   "metadata": {},
   "source": [
    "# 4. Find the length of the below variables and print the first 2 and last 2 letters (2 points)\n",
    " 1. introduction to informatics\n",
    " 2. I 501"
   ]
  },
  {
   "cell_type": "code",
   "execution_count": 16,
   "metadata": {},
   "outputs": [
    {
     "name": "stdout",
     "output_type": "stream",
     "text": [
      "27\n",
      "5\n",
      "first two - in\n",
      "last two - s c\n",
      "fist two in y - I \n",
      "last two in y - 1 0\n"
     ]
    }
   ],
   "source": [
    "x= 'introduction to informatics'\n",
    "y= 'I 501'\n",
    "print (len (x))\n",
    "print (len (y))\n",
    "print ('first two','-',x[0:2])\n",
    "print('last two','-',x[-1],x[-2])\n",
    "print('fist two in y','-',y[0:2])\n",
    "print('last two in y','-',y[-1],y[-2])"
   ]
  },
  {
   "cell_type": "markdown",
   "metadata": {},
   "source": [
    "# 5. Print the value and data type of variables name, age, city, and height by taking these as input from the user in the appropriate data type (2 points)"
   ]
  },
  {
   "cell_type": "code",
   "execution_count": 17,
   "metadata": {},
   "outputs": [
    {
     "name": "stdout",
     "output_type": "stream",
     "text": [
      "Enter your nameSreya\n",
      "<class 'str'>\n"
     ]
    }
   ],
   "source": [
    "name= input ('Enter your name')\n",
    "print(type(name))"
   ]
  },
  {
   "cell_type": "code",
   "execution_count": 18,
   "metadata": {},
   "outputs": [
    {
     "name": "stdout",
     "output_type": "stream",
     "text": [
      "Enter your age:23\n",
      "<class 'int'>\n"
     ]
    }
   ],
   "source": [
    "age= int(input ('Enter your age:'))\n",
    "print(type(age))"
   ]
  },
  {
   "cell_type": "code",
   "execution_count": 19,
   "metadata": {},
   "outputs": [
    {
     "name": "stdout",
     "output_type": "stream",
     "text": [
      "Enter the name of your city:Indianapolis\n",
      "<class 'str'>\n"
     ]
    }
   ],
   "source": [
    "city= input('Enter the name of your city:')\n",
    "print(type(city))"
   ]
  },
  {
   "cell_type": "code",
   "execution_count": 20,
   "metadata": {},
   "outputs": [
    {
     "name": "stdout",
     "output_type": "stream",
     "text": [
      "Enter your height:5.5\n",
      "<class 'float'>\n"
     ]
    }
   ],
   "source": [
    "height= float (input('Enter your height:'))\n",
    "print(type(height))"
   ]
  },
  {
   "cell_type": "markdown",
   "metadata": {},
   "source": [
    "# 6. Print the sum of 3 integer numbers by taking each as separate input from the user (2 points)"
   ]
  },
  {
   "cell_type": "code",
   "execution_count": 27,
   "metadata": {},
   "outputs": [
    {
     "name": "stdout",
     "output_type": "stream",
     "text": [
      "Enter first number:4\n",
      "Enter second number:7\n",
      "Enter second number:19\n",
      "30\n"
     ]
    }
   ],
   "source": [
    "x=int(input('Enter first number:'))\n",
    "y=int(input('Enter second number:'))\n",
    "z=int(input('Enter second number:'))\n",
    "sum=x+y+z\n",
    "print(sum)"
   ]
  },
  {
   "cell_type": "markdown",
   "metadata": {},
   "source": [
    "# 7. Take a floating-point number from the user and print the square and cube of the number. (2 points)\n"
   ]
  },
  {
   "cell_type": "code",
   "execution_count": 29,
   "metadata": {},
   "outputs": [
    {
     "name": "stdout",
     "output_type": "stream",
     "text": [
      "Enter a number:3.3\n",
      "square of the number - 10.889999999999999\n",
      "cube of the number - 35.937\n"
     ]
    }
   ],
   "source": [
    "x= float(input('Enter a number:'))\n",
    "print('square of the number','-',x**2)\n",
    "print('cube of the number','-',x**3)"
   ]
  },
  {
   "cell_type": "markdown",
   "metadata": {},
   "source": [
    "# 8. Take 2 strings, \"Introduction to Informatics!!\", \"I501\" and print out the concatenated output with a '-' between them. Also, print the length of the concatenated string (2 points)\n"
   ]
  },
  {
   "cell_type": "code",
   "execution_count": 31,
   "metadata": {},
   "outputs": [
    {
     "name": "stdout",
     "output_type": "stream",
     "text": [
      "Introduction to Informatics-I501\n",
      "32\n"
     ]
    }
   ],
   "source": [
    "x= 'Introduction to Informatics'\n",
    "y= 'I501'\n",
    "z= x+'-'+y\n",
    "print(z)\n",
    "print(len(z))"
   ]
  },
  {
   "cell_type": "markdown",
   "metadata": {},
   "source": [
    "# 9. Print the data types of the following objects: (total 2 points)\n",
    "#12-4\n",
    "#\"int\"\n",
    "#200//40.0\n",
    "#4+8.7j\n"
   ]
  },
  {
   "cell_type": "code",
   "execution_count": 36,
   "metadata": {},
   "outputs": [
    {
     "name": "stdout",
     "output_type": "stream",
     "text": [
      "<class 'int'>\n",
      "<class 'str'>\n",
      "<class 'float'>\n",
      "<class 'complex'>\n"
     ]
    }
   ],
   "source": [
    "x=12-4\n",
    "print(type(x))\n",
    "y='int'\n",
    "print(type(y))\n",
    "a=200//40.0\n",
    "print(type(a))\n",
    "b= 4+8.7j\n",
    "print(type(b))"
   ]
  },
  {
   "cell_type": "markdown",
   "metadata": {},
   "source": [
    "# 10. Write a python program that takes three strings as input from the user and print the longest among the three. (2 points)\n"
   ]
  },
  {
   "cell_type": "code",
   "execution_count": 6,
   "metadata": {},
   "outputs": [
    {
     "name": "stdout",
     "output_type": "stream",
     "text": [
      "Enter first string:My name is Sreya\n",
      "Enter second string:I am 23 years old\n",
      "Enter third string:I live in Indianapolis\n",
      "I live in Indianapolis\n"
     ]
    }
   ],
   "source": [
    "x= input('Enter first string:')\n",
    "y= input('Enter second string:')\n",
    "z= input('Enter third string:')\n",
    "l= [x,y,z]\n",
    "L= max (l, key= len)\n",
    "print(L)\n"
   ]
  },
  {
   "cell_type": "code",
   "execution_count": null,
   "metadata": {},
   "outputs": [],
   "source": []
  }
 ],
 "metadata": {
  "kernelspec": {
   "display_name": "Python 3",
   "language": "python",
   "name": "python3"
  },
  "language_info": {
   "codemirror_mode": {
    "name": "ipython",
    "version": 3
   },
   "file_extension": ".py",
   "mimetype": "text/x-python",
   "name": "python",
   "nbconvert_exporter": "python",
   "pygments_lexer": "ipython3",
   "version": "3.8.10"
  }
 },
 "nbformat": 4,
 "nbformat_minor": 4
}
