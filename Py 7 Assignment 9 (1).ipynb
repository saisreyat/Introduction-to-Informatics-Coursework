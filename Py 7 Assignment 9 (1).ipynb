{
 "cells": [
  {
   "cell_type": "markdown",
   "metadata": {},
   "source": [
    "# 1. Create a data frame by reading the CSV file  StudentList.csv  Download StudentList.csvinto python do the following actions. (6 Points)\n",
    "Print the shape of the data frame\n",
    "\n",
    "Create a new column that saves the calculate the sum of Math, Science, and Computer Science as Total\n",
    "\n",
    "Print the Mean, Median, Variance, and Standard deviation for the Total column from the data frame\n",
    "\n",
    "Get all the details of the highest Total value from the data frame"
   ]
  },
  {
   "cell_type": "code",
   "execution_count": 7,
   "metadata": {},
   "outputs": [
    {
     "data": {
      "text/html": [
       "<div>\n",
       "<style scoped>\n",
       "    .dataframe tbody tr th:only-of-type {\n",
       "        vertical-align: middle;\n",
       "    }\n",
       "\n",
       "    .dataframe tbody tr th {\n",
       "        vertical-align: top;\n",
       "    }\n",
       "\n",
       "    .dataframe thead th {\n",
       "        text-align: right;\n",
       "    }\n",
       "</style>\n",
       "<table border=\"1\" class=\"dataframe\">\n",
       "  <thead>\n",
       "    <tr style=\"text-align: right;\">\n",
       "      <th></th>\n",
       "      <th>Unnamed: 0</th>\n",
       "      <th>Unnamed: 0.1</th>\n",
       "      <th>Name</th>\n",
       "      <th>Math</th>\n",
       "      <th>Science</th>\n",
       "      <th>Computer Science</th>\n",
       "      <th>Total</th>\n",
       "    </tr>\n",
       "  </thead>\n",
       "  <tbody>\n",
       "    <tr>\n",
       "      <th>0</th>\n",
       "      <td>0</td>\n",
       "      <td>0</td>\n",
       "      <td>John</td>\n",
       "      <td>70</td>\n",
       "      <td>65</td>\n",
       "      <td>59</td>\n",
       "      <td>194</td>\n",
       "    </tr>\n",
       "    <tr>\n",
       "      <th>1</th>\n",
       "      <td>1</td>\n",
       "      <td>1</td>\n",
       "      <td>Liam</td>\n",
       "      <td>80</td>\n",
       "      <td>90</td>\n",
       "      <td>95</td>\n",
       "      <td>265</td>\n",
       "    </tr>\n",
       "    <tr>\n",
       "      <th>2</th>\n",
       "      <td>2</td>\n",
       "      <td>2</td>\n",
       "      <td>William</td>\n",
       "      <td>76</td>\n",
       "      <td>77</td>\n",
       "      <td>80</td>\n",
       "      <td>233</td>\n",
       "    </tr>\n",
       "    <tr>\n",
       "      <th>3</th>\n",
       "      <td>3</td>\n",
       "      <td>3</td>\n",
       "      <td>Benjamin</td>\n",
       "      <td>89</td>\n",
       "      <td>77</td>\n",
       "      <td>55</td>\n",
       "      <td>221</td>\n",
       "    </tr>\n",
       "    <tr>\n",
       "      <th>4</th>\n",
       "      <td>4</td>\n",
       "      <td>4</td>\n",
       "      <td>Mathew</td>\n",
       "      <td>80</td>\n",
       "      <td>91</td>\n",
       "      <td>85</td>\n",
       "      <td>256</td>\n",
       "    </tr>\n",
       "    <tr>\n",
       "      <th>5</th>\n",
       "      <td>5</td>\n",
       "      <td>5</td>\n",
       "      <td>Noah</td>\n",
       "      <td>50</td>\n",
       "      <td>50</td>\n",
       "      <td>40</td>\n",
       "      <td>140</td>\n",
       "    </tr>\n",
       "    <tr>\n",
       "      <th>6</th>\n",
       "      <td>6</td>\n",
       "      <td>6</td>\n",
       "      <td>Lucas</td>\n",
       "      <td>60</td>\n",
       "      <td>61</td>\n",
       "      <td>53</td>\n",
       "      <td>174</td>\n",
       "    </tr>\n",
       "    <tr>\n",
       "      <th>7</th>\n",
       "      <td>7</td>\n",
       "      <td>7</td>\n",
       "      <td>Ethan</td>\n",
       "      <td>60</td>\n",
       "      <td>54</td>\n",
       "      <td>67</td>\n",
       "      <td>181</td>\n",
       "    </tr>\n",
       "    <tr>\n",
       "      <th>8</th>\n",
       "      <td>8</td>\n",
       "      <td>8</td>\n",
       "      <td>Olivia</td>\n",
       "      <td>70</td>\n",
       "      <td>84</td>\n",
       "      <td>60</td>\n",
       "      <td>214</td>\n",
       "    </tr>\n",
       "    <tr>\n",
       "      <th>9</th>\n",
       "      <td>9</td>\n",
       "      <td>9</td>\n",
       "      <td>Ava</td>\n",
       "      <td>50</td>\n",
       "      <td>65</td>\n",
       "      <td>80</td>\n",
       "      <td>195</td>\n",
       "    </tr>\n",
       "  </tbody>\n",
       "</table>\n",
       "</div>"
      ],
      "text/plain": [
       "   Unnamed: 0  Unnamed: 0.1      Name  Math  Science  Computer Science  Total\n",
       "0           0             0      John    70       65                59    194\n",
       "1           1             1      Liam    80       90                95    265\n",
       "2           2             2   William    76       77                80    233\n",
       "3           3             3  Benjamin    89       77                55    221\n",
       "4           4             4    Mathew    80       91                85    256\n",
       "5           5             5      Noah    50       50                40    140\n",
       "6           6             6     Lucas    60       61                53    174\n",
       "7           7             7     Ethan    60       54                67    181\n",
       "8           8             8    Olivia    70       84                60    214\n",
       "9           9             9       Ava    50       65                80    195"
      ]
     },
     "execution_count": 7,
     "metadata": {},
     "output_type": "execute_result"
    }
   ],
   "source": [
    "import pandas as pd\n",
    "df = pd.read_csv('StudentList.csv')\n",
    "df \n"
   ]
  },
  {
   "cell_type": "code",
   "execution_count": 8,
   "metadata": {},
   "outputs": [
    {
     "data": {
      "text/plain": [
       "(10, 7)"
      ]
     },
     "execution_count": 8,
     "metadata": {},
     "output_type": "execute_result"
    }
   ],
   "source": [
    "df.shape"
   ]
  },
  {
   "cell_type": "code",
   "execution_count": 9,
   "metadata": {},
   "outputs": [
    {
     "data": {
      "text/html": [
       "<div>\n",
       "<style scoped>\n",
       "    .dataframe tbody tr th:only-of-type {\n",
       "        vertical-align: middle;\n",
       "    }\n",
       "\n",
       "    .dataframe tbody tr th {\n",
       "        vertical-align: top;\n",
       "    }\n",
       "\n",
       "    .dataframe thead th {\n",
       "        text-align: right;\n",
       "    }\n",
       "</style>\n",
       "<table border=\"1\" class=\"dataframe\">\n",
       "  <thead>\n",
       "    <tr style=\"text-align: right;\">\n",
       "      <th></th>\n",
       "      <th>Unnamed: 0</th>\n",
       "      <th>Unnamed: 0.1</th>\n",
       "      <th>Name</th>\n",
       "      <th>Math</th>\n",
       "      <th>Science</th>\n",
       "      <th>Computer Science</th>\n",
       "      <th>Total</th>\n",
       "    </tr>\n",
       "  </thead>\n",
       "  <tbody>\n",
       "    <tr>\n",
       "      <th>0</th>\n",
       "      <td>0</td>\n",
       "      <td>0</td>\n",
       "      <td>John</td>\n",
       "      <td>70</td>\n",
       "      <td>65</td>\n",
       "      <td>59</td>\n",
       "      <td>194</td>\n",
       "    </tr>\n",
       "    <tr>\n",
       "      <th>1</th>\n",
       "      <td>1</td>\n",
       "      <td>1</td>\n",
       "      <td>Liam</td>\n",
       "      <td>80</td>\n",
       "      <td>90</td>\n",
       "      <td>95</td>\n",
       "      <td>265</td>\n",
       "    </tr>\n",
       "    <tr>\n",
       "      <th>2</th>\n",
       "      <td>2</td>\n",
       "      <td>2</td>\n",
       "      <td>William</td>\n",
       "      <td>76</td>\n",
       "      <td>77</td>\n",
       "      <td>80</td>\n",
       "      <td>233</td>\n",
       "    </tr>\n",
       "    <tr>\n",
       "      <th>3</th>\n",
       "      <td>3</td>\n",
       "      <td>3</td>\n",
       "      <td>Benjamin</td>\n",
       "      <td>89</td>\n",
       "      <td>77</td>\n",
       "      <td>55</td>\n",
       "      <td>221</td>\n",
       "    </tr>\n",
       "    <tr>\n",
       "      <th>4</th>\n",
       "      <td>4</td>\n",
       "      <td>4</td>\n",
       "      <td>Mathew</td>\n",
       "      <td>80</td>\n",
       "      <td>91</td>\n",
       "      <td>85</td>\n",
       "      <td>256</td>\n",
       "    </tr>\n",
       "    <tr>\n",
       "      <th>5</th>\n",
       "      <td>5</td>\n",
       "      <td>5</td>\n",
       "      <td>Noah</td>\n",
       "      <td>50</td>\n",
       "      <td>50</td>\n",
       "      <td>40</td>\n",
       "      <td>140</td>\n",
       "    </tr>\n",
       "    <tr>\n",
       "      <th>6</th>\n",
       "      <td>6</td>\n",
       "      <td>6</td>\n",
       "      <td>Lucas</td>\n",
       "      <td>60</td>\n",
       "      <td>61</td>\n",
       "      <td>53</td>\n",
       "      <td>174</td>\n",
       "    </tr>\n",
       "    <tr>\n",
       "      <th>7</th>\n",
       "      <td>7</td>\n",
       "      <td>7</td>\n",
       "      <td>Ethan</td>\n",
       "      <td>60</td>\n",
       "      <td>54</td>\n",
       "      <td>67</td>\n",
       "      <td>181</td>\n",
       "    </tr>\n",
       "    <tr>\n",
       "      <th>8</th>\n",
       "      <td>8</td>\n",
       "      <td>8</td>\n",
       "      <td>Olivia</td>\n",
       "      <td>70</td>\n",
       "      <td>84</td>\n",
       "      <td>60</td>\n",
       "      <td>214</td>\n",
       "    </tr>\n",
       "    <tr>\n",
       "      <th>9</th>\n",
       "      <td>9</td>\n",
       "      <td>9</td>\n",
       "      <td>Ava</td>\n",
       "      <td>50</td>\n",
       "      <td>65</td>\n",
       "      <td>80</td>\n",
       "      <td>195</td>\n",
       "    </tr>\n",
       "  </tbody>\n",
       "</table>\n",
       "</div>"
      ],
      "text/plain": [
       "   Unnamed: 0  Unnamed: 0.1      Name  Math  Science  Computer Science  Total\n",
       "0           0             0      John    70       65                59    194\n",
       "1           1             1      Liam    80       90                95    265\n",
       "2           2             2   William    76       77                80    233\n",
       "3           3             3  Benjamin    89       77                55    221\n",
       "4           4             4    Mathew    80       91                85    256\n",
       "5           5             5      Noah    50       50                40    140\n",
       "6           6             6     Lucas    60       61                53    174\n",
       "7           7             7     Ethan    60       54                67    181\n",
       "8           8             8    Olivia    70       84                60    214\n",
       "9           9             9       Ava    50       65                80    195"
      ]
     },
     "metadata": {},
     "output_type": "display_data"
    }
   ],
   "source": [
    "df['Total'] = df['Math']+df['Science']+df['Computer Science']\n",
    "display(df)\n",
    "df.to_csv('StudentList.csv', encoding = 'utf-8')"
   ]
  },
  {
   "cell_type": "code",
   "execution_count": 14,
   "metadata": {},
   "outputs": [
    {
     "name": "stdout",
     "output_type": "stream",
     "text": [
      "Mean:  207.3\n",
      "Median:  204.5\n",
      "Standard deviation:  38.37258859596985\n",
      "Variance:  1472.4555555555553\n",
      "Standard deviation:  38.37258859596985\n"
     ]
    }
   ],
   "source": [
    "print('Mean:','',df['Total'].mean())\n",
    "print('Median:','',df['Total'].median())\n",
    "print('Standard deviation:','',df['Total'].std())\n",
    "print('Variance:','',df['Total'].var())\n",
    "print('Standard deviation:','',df['Total'].std())"
   ]
  },
  {
   "cell_type": "code",
   "execution_count": 16,
   "metadata": {},
   "outputs": [
    {
     "data": {
      "text/html": [
       "<div>\n",
       "<style scoped>\n",
       "    .dataframe tbody tr th:only-of-type {\n",
       "        vertical-align: middle;\n",
       "    }\n",
       "\n",
       "    .dataframe tbody tr th {\n",
       "        vertical-align: top;\n",
       "    }\n",
       "\n",
       "    .dataframe thead th {\n",
       "        text-align: right;\n",
       "    }\n",
       "</style>\n",
       "<table border=\"1\" class=\"dataframe\">\n",
       "  <thead>\n",
       "    <tr style=\"text-align: right;\">\n",
       "      <th></th>\n",
       "      <th>Name</th>\n",
       "      <th>Math</th>\n",
       "      <th>Science</th>\n",
       "      <th>Computer Science</th>\n",
       "      <th>Total</th>\n",
       "    </tr>\n",
       "  </thead>\n",
       "  <tbody>\n",
       "    <tr>\n",
       "      <th>1</th>\n",
       "      <td>Liam</td>\n",
       "      <td>80</td>\n",
       "      <td>90</td>\n",
       "      <td>95</td>\n",
       "      <td>265</td>\n",
       "    </tr>\n",
       "  </tbody>\n",
       "</table>\n",
       "</div>"
      ],
      "text/plain": [
       "   Name  Math  Science  Computer Science  Total\n",
       "1  Liam    80       90                95    265"
      ]
     },
     "execution_count": 16,
     "metadata": {},
     "output_type": "execute_result"
    }
   ],
   "source": [
    "df[df['Total']==df['Total'].max()]"
   ]
  },
  {
   "cell_type": "markdown",
   "metadata": {},
   "source": [
    "# 2. Create a python program that randomly selects 20 numbers from the list [10, 1, 2, 4, 9, 5, 3, 6, 8, 7] using the inbuilt random function (2 points) \n",
    "\n"
   ]
  },
  {
   "cell_type": "code",
   "execution_count": 10,
   "metadata": {},
   "outputs": [
    {
     "name": "stdout",
     "output_type": "stream",
     "text": [
      "[ 3  3  6  7  2  8  1  9  8  4  9  6  9  8  1  1  3 10  5  9]\n"
     ]
    }
   ],
   "source": [
    "import numpy as np\n",
    "lst = [10, 1, 2, 4, 9, 5, 3, 6, 8, 7]\n",
    "randomlst = np.random.choice(lst,20)\n",
    "print(randomlst)"
   ]
  },
  {
   "cell_type": "markdown",
   "metadata": {},
   "source": [
    "# 3. Write a python program to create a histogram (using pyplot) for the above randomly selected numbers in question 2 with appropriate titles and axis labels. (3 points)\n",
    "\n"
   ]
  },
  {
   "cell_type": "code",
   "execution_count": 32,
   "metadata": {},
   "outputs": [
    {
     "data": {
      "image/png": "[encoded data removed]",
      "text/plain": [
       "<Figure size 432x288 with 1 Axes>"
      ]
     },
     "metadata": {
      "needs_background": "light"
     },
     "output_type": "display_data"
    }
   ],
   "source": [
    "from matplotlib import pyplot as plt\n",
    "\n",
    "plt.hist(randomlst,bins=10)\n",
    "plt.title('Random list numbers and their Frequencies')\n",
    "plt.xlabel('Frequency')\n",
    "plt.ylabel('Random list numbers')\n",
    "plt.show()\n"
   ]
  },
  {
   "cell_type": "markdown",
   "metadata": {},
   "source": [
    "# 4. For the new list created in the 2nd question, write a Python program to create a dictionary, which maps the values to their frequencies and calculates the probability of each number using their frequencies. (3 points)\n",
    "\n"
   ]
  },
  {
   "cell_type": "code",
   "execution_count": 33,
   "metadata": {},
   "outputs": [
    {
     "name": "stdout",
     "output_type": "stream",
     "text": [
      "{6: 2, 8: 2, 4: 1, 3: 2, 1: 2, 7: 5, 10: 2, 9: 1, 2: 1, 5: 2}\n"
     ]
    }
   ],
   "source": [
    "import numpy as np\n",
    "lst1 = randomlst\n",
    "dic = {}\n",
    "for i in lst1:\n",
    "    dic[i]= dic.get(i,0)+1\n",
    "print(dic)\n"
   ]
  },
  {
   "cell_type": "code",
   "execution_count": 34,
   "metadata": {},
   "outputs": [
    {
     "name": "stdout",
     "output_type": "stream",
     "text": [
      "{6: 0.1, 8: 0.1, 4: 0.05, 3: 0.1, 1: 0.1, 7: 0.25, 10: 0.1, 9: 0.05, 2: 0.05, 5: 0.1}\n"
     ]
    }
   ],
   "source": [
    "x = float(len(lst1))\n",
    "pmf = {}\n",
    "for i, freq in dic.items():\n",
    "    pmf[i] = freq/x\n",
    "print(pmf)"
   ]
  },
  {
   "cell_type": "markdown",
   "metadata": {},
   "source": [
    "\n",
    "# 5. James was asked to roll a fair dice so many times that he can only stop rolling either when the face of two shows up 15 times or a face of five shows up 25 times (whichever happens first). Write a stochastic program in Python to replicate the rolls and display the output of the dice rolls in a histogram. (4 points)\n",
    "\n"
   ]
  },
  {
   "cell_type": "code",
   "execution_count": 54,
   "metadata": {},
   "outputs": [
    {
     "name": "stdout",
     "output_type": "stream",
     "text": [
      "[1, 3, 6, 3, 6, 4, 1, 1, 2, 3, 6, 2, 5, 2, 3, 4, 2, 4, 4, 6, 4, 1, 3, 4, 2, 1, 6, 3, 6, 5, 6, 5, 4, 6, 3, 2, 6, 2, 1, 3, 3, 1, 2, 6, 3, 1, 1, 1, 6, 2, 1, 2, 4, 1, 5, 2, 6, 4, 4, 5, 2, 3, 3, 2, 5, 5, 1, 2, 2, 4, 5, 6, 1, 1, 2, 6, 6, 1, 4, 5, 1, 2, 2, 1, 6, 1, 2, 2, 2, 3, 3, 1, 2, 3, 3, 5, 3, 3, 3, 2, 5, 2, 6, 5, 5, 6, 6, 5, 4, 1, 5, 4, 2, 6, 3, 5, 2, 5, 2, 2, 2, 5, 1, 4, 5, 1, 5, 5, 2, 1, 5, 2, 2, 6, 4, 2, 4, 6, 2, 2, 6, 1, 1, 5, 6, 2, 2, 4, 4, 1, 6, 2, 6, 3, 4, 5, 4, 4, 2, 1, 1, 3, 4, 3, 5, 6, 4, 2, 5]\n"
     ]
    },
    {
     "data": {
      "image/png": "[encoded data removed]",
      "text/plain": [
       "<Figure size 432x288 with 1 Axes>"
      ]
     },
     "metadata": {
      "needs_background": "light"
     },
     "output_type": "display_data"
    }
   ],
   "source": [
    "import random\n",
    "import matplotlib.pyplot as plt\n",
    "def dice():\n",
    "    return random.randint(1,6)\n",
    "\n",
    "two = 0\n",
    "five = 0\n",
    "lst = []\n",
    "\n",
    "while two<=15 or five<=25:\n",
    "    roll = dice()\n",
    "    lst.append(roll)\n",
    "    if roll== 2:\n",
    "        two = two+1\n",
    "    elif roll == 5:\n",
    "        five = five+1\n",
    "print(lst)  \n",
    "plt.hist(lst,bins = 5)\n",
    "plt.xlabel('Dice Number')\n",
    "plt.ylabel('Frequency')\n",
    "plt.show()\n",
    "  \n"
   ]
  },
  {
   "cell_type": "markdown",
   "metadata": {},
   "source": [
    "# 6. Take the given list [4,2,5,2,3,2,7,2,9,5,10,3] and convert it into a NumPy array and reshape it to a 4X3 matrix (2 Points)\n",
    "\n"
   ]
  },
  {
   "cell_type": "code",
   "execution_count": 15,
   "metadata": {},
   "outputs": [
    {
     "name": "stdout",
     "output_type": "stream",
     "text": [
      "[ 4  2  5  2  3  2  7  2  9  5 10  3]\n"
     ]
    }
   ],
   "source": [
    "import numpy as np\n",
    "lst =  [4,2,5,2,3,2,7,2,9,5,10,3]\n",
    "lstarray = np.array(lst)\n",
    "print(lstarray)"
   ]
  },
  {
   "cell_type": "code",
   "execution_count": 16,
   "metadata": {},
   "outputs": [
    {
     "name": "stdout",
     "output_type": "stream",
     "text": [
      "[[ 4  2  5]\n",
      " [ 2  3  2]\n",
      " [ 7  2  9]\n",
      " [ 5 10  3]]\n"
     ]
    }
   ],
   "source": [
    "reshape = np.reshape(lstarray,(4,3))\n",
    "print(reshape)"
   ]
  },
  {
   "cell_type": "code",
   "execution_count": null,
   "metadata": {},
   "outputs": [],
   "source": []
  }
 ],
 "metadata": {
  "kernelspec": {
   "display_name": "Python 3",
   "language": "python",
   "name": "python3"
  },
  "language_info": {
   "codemirror_mode": {
    "name": "ipython",
    "version": 3
   },
   "file_extension": ".py",
   "mimetype": "text/x-python",
   "name": "python",
   "nbconvert_exporter": "python",
   "pygments_lexer": "ipython3",
   "version": "3.8.10"
  }
 },
 "nbformat": 4,
 "nbformat_minor": 4
}
